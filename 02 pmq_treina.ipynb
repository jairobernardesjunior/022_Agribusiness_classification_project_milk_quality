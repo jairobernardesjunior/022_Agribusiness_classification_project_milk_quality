{
 "cells": [
  {
   "cell_type": "markdown",
   "metadata": {},
   "source": [
    "- ## Escolha do modelo\n",
    "- ## Treinamento do modelo\n",
    "- ## Teste do modelo\n",
    "- ## Armazenamento do modelo"
   ]
  },
  {
   "cell_type": "code",
   "execution_count": 82,
   "metadata": {},
   "outputs": [],
   "source": [
    "# maximiza nro de linhas e colunas para exibição\n",
    "# inibe mensagens de warning\n",
    "import pandas as pd\n",
    "pd.set_option('display.max_rows', None) # permite a máxima visualização das linhas em um display\n",
    "pd.set_option('display.max_columns', None) # permite a máxima visualização das colunas em um display\n",
    "import warnings\n",
    "warnings.simplefilter('ignore') # inibe a exibição de avisos de warning\n",
    "warnings.filterwarnings('ignore') # inibe a exibição de avisos de warning"
   ]
  },
  {
   "cell_type": "code",
   "execution_count": 83,
   "metadata": {},
   "outputs": [],
   "source": [
    "# modelos de classificação\n",
    "from sklearn.linear_model import LogisticRegression # estimar a probabilidade de um determinado resultado com base em variáveis independentes\n",
    "from sklearn.tree import DecisionTreeClassifier # usado tanto para classificação binária quanto multiclass, permitindo a previsão de rótulos variados\n",
    "from sklearn.neighbors import KNeighborsClassifier # classificador que implementa o voto dos k-vizinhos mais próximos\n",
    "from sklearn.discriminant_analysis import LinearDiscriminantAnalysis # classificador com uma fronteira de decisão linear, ajustando as densidades condicionais das classes aos dados e utilizando a regra de Bayes\n",
    "from sklearn.naive_bayes import GaussianNB # algoritmo de classificação probabilístico que se baseia no teorema de Bayes\n",
    "from sklearn.svm import SVC # utilizado para classificação, que baseia-se na criação de um hiperplano em um espaço de múltiplas dimensões para separar diferentes classes\n",
    "from sklearn.neural_network import MLPClassifier # utiliza uma rede neural de múltiplas camadas, e é especialmente otimizado para a função de log-loss utilizando técnicas como LBFGS ou descida de gradiente estocástico\n",
    "from sklearn.ensemble import AdaBoostClassifier # aprendizado supervisionado não paramétrico utilizado para classificação, que cria um modelo preditivo com base em classificadores simples\n",
    "from sklearn.ensemble import GradientBoostingClassifier # cria um modelo aditivo de forma progressiva, permitindo a otimização de funções de perda diferenciáveis. É eficaz para problemas de classificação\n",
    "from sklearn.ensemble import RandomForestClassifier # utiliza uma combinação de várias árvores de decisão para realizar tarefas de classificação, melhorando a precisão dos resultados\n",
    "from sklearn.ensemble import ExtraTreesClassifier # classificador de árvores de decisão extremamente aleatórias, que se diferencia das árvores de decisão tradicionais ao construir múltiplas árvores de forma aleatória"
   ]
  },
  {
   "cell_type": "code",
   "execution_count": 84,
   "metadata": {},
   "outputs": [],
   "source": [
    "# modelos de aprendizado profundo\n",
    "from keras.models import Sequential # permite agrupar uma pilha linear de camadas em um modelo, facilitando a construção de redes neurais\n",
    "from keras.layers import Dense # camada fundamental em redes neurais, onde cada neurônio está conectado a todos os neurônios da camada anterior, o que a torna amplamente utilizada em redes de múltiplas camadas\n",
    "from keras.optimizers import SGD # otimizador usado em Keras que atualiza os parâmetros com base no gradiente e na taxa de aprendizado definida\n",
    "from scikeras.wrappers import KerasClassifier # permite usar modelos Keras em bibliotecas como scikit-learn, facilitando a integração com técnicas como validação cruzada e ajuste de hiperparâmetros\n",
    "from tensorflow.keras.optimizers import Adam # método de descida de gradiente estocástico que usa estimativas adaptativas de momentos de primeira e segunda ordem"
   ]
  },
  {
   "cell_type": "code",
   "execution_count": 85,
   "metadata": {},
   "outputs": [],
   "source": [
    "# análise de dados e avaliação dos modelos\n",
    "from sklearn.model_selection import train_test_split # utilizada para dividir conjuntos de dados em subconjuntos de treino e teste, ajudando na validação de modelos\n",
    "from sklearn.model_selection import KFold # técnica de validação cruzada que divide um conjunto de dados em 'k' subconjuntos (folds) para treinar e testar modelos, garantindo que cada exemplo seja usado para treinamento e teste\n",
    "from sklearn.model_selection import cross_val_score # avalia o desempenho de um estimador usando validação cruzada. Ela divide os dados em k partes e treina o modelo k vezes\n",
    "from sklearn.model_selection import GridSearchCV # realizar uma busca exaustiva sobre combinações de parâmetros especificados para um estimador. Ele ajuda a otimizar o desempenho do modelo\n",
    "from sklearn.metrics import confusion_matrix # tabela que é usada em problemas de classificação para avaliar onde ocorreram erros no modelo, com as linhas representando as classes reais e as colunas as classes previstas\n",
    "from sklearn.metrics import accuracy_score # métrica utilizada para avaliar o desempenho de modelos de classificação, representando a fração de previsões corretas em relação ao total de previsões feitas"
   ]
  },
  {
   "cell_type": "code",
   "execution_count": 86,
   "metadata": {},
   "outputs": [],
   "source": [
    "# preparação e visualização de dados\n",
    "import numpy as np # computação de matrizes\n",
    "from matplotlib import pyplot # plotagem gráfica\n",
    "import seaborn as sns # plotagem gráfica"
   ]
  },
  {
   "cell_type": "code",
   "execution_count": 87,
   "metadata": {},
   "outputs": [],
   "source": [
    "# carregando arquivo tratado em dataframe\n",
    "df_milk = pd.read_csv('df_treated/df_milk_treated.csv')"
   ]
  },
  {
   "cell_type": "code",
   "execution_count": 88,
   "metadata": {},
   "outputs": [
    {
     "data": {
      "text/plain": [
       "(1819, 20)"
      ]
     },
     "execution_count": 88,
     "metadata": {},
     "output_type": "execute_result"
    }
   ],
   "source": [
    "# conferindo a dimensão do dataframe, linhas e colunas\n",
    "df_milk.shape"
   ]
  },
  {
   "cell_type": "code",
   "execution_count": 89,
   "metadata": {},
   "outputs": [],
   "source": [
    "# ordenando pelo index o dataframe carregado\n",
    "df_milk = df_milk.sort_index()"
   ]
  },
  {
   "cell_type": "code",
   "execution_count": 90,
   "metadata": {},
   "outputs": [
    {
     "data": {
      "text/html": [
       "<div>\n",
       "<style scoped>\n",
       "    .dataframe tbody tr th:only-of-type {\n",
       "        vertical-align: middle;\n",
       "    }\n",
       "\n",
       "    .dataframe tbody tr th {\n",
       "        vertical-align: top;\n",
       "    }\n",
       "\n",
       "    .dataframe thead th {\n",
       "        text-align: right;\n",
       "    }\n",
       "</style>\n",
       "<table border=\"1\" class=\"dataframe\">\n",
       "  <thead>\n",
       "    <tr style=\"text-align: right;\">\n",
       "      <th></th>\n",
       "      <th>local</th>\n",
       "      <th>data</th>\n",
       "      <th>hora</th>\n",
       "      <th>lat</th>\n",
       "      <th>long</th>\n",
       "      <th>umidade</th>\n",
       "      <th>t_ex</th>\n",
       "      <th>t1</th>\n",
       "      <th>t2</th>\n",
       "      <th>t3</th>\n",
       "      <th>t4</th>\n",
       "      <th>t5</th>\n",
       "      <th>t6</th>\n",
       "      <th>t7</th>\n",
       "      <th>t8</th>\n",
       "      <th>data_hora</th>\n",
       "      <th>temp</th>\n",
       "      <th>anormal</th>\n",
       "      <th>temp_faixa</th>\n",
       "      <th>ord__temp_faixa</th>\n",
       "    </tr>\n",
       "  </thead>\n",
       "  <tbody>\n",
       "    <tr>\n",
       "      <th>0</th>\n",
       "      <td>1</td>\n",
       "      <td>01/08/2023</td>\n",
       "      <td>00:09:30</td>\n",
       "      <td>-18.918173</td>\n",
       "      <td>-48.230431</td>\n",
       "      <td>47.418488</td>\n",
       "      <td>25.892607</td>\n",
       "      <td>24.409178</td>\n",
       "      <td>24.427492</td>\n",
       "      <td>24.427492</td>\n",
       "      <td>24.427549</td>\n",
       "      <td>24.427597</td>\n",
       "      <td>24.427624</td>\n",
       "      <td>24.423851</td>\n",
       "      <td>24.415396</td>\n",
       "      <td>2023-01-08 00:09:30</td>\n",
       "      <td>4.00000</td>\n",
       "      <td>0</td>\n",
       "      <td>(3.8, 5.7]</td>\n",
       "      <td>1.0</td>\n",
       "    </tr>\n",
       "    <tr>\n",
       "      <th>1</th>\n",
       "      <td>1</td>\n",
       "      <td>01/08/2023</td>\n",
       "      <td>00:19:30</td>\n",
       "      <td>-18.918213</td>\n",
       "      <td>-48.230457</td>\n",
       "      <td>47.540405</td>\n",
       "      <td>25.869171</td>\n",
       "      <td>24.345068</td>\n",
       "      <td>24.364992</td>\n",
       "      <td>24.364992</td>\n",
       "      <td>24.365047</td>\n",
       "      <td>24.365095</td>\n",
       "      <td>24.365124</td>\n",
       "      <td>24.359230</td>\n",
       "      <td>24.351067</td>\n",
       "      <td>2023-01-08 00:19:30</td>\n",
       "      <td>4.00000</td>\n",
       "      <td>0</td>\n",
       "      <td>(3.8, 5.7]</td>\n",
       "      <td>1.0</td>\n",
       "    </tr>\n",
       "    <tr>\n",
       "      <th>2</th>\n",
       "      <td>1</td>\n",
       "      <td>01/08/2023</td>\n",
       "      <td>00:29:30</td>\n",
       "      <td>-18.918280</td>\n",
       "      <td>-48.230495</td>\n",
       "      <td>47.464645</td>\n",
       "      <td>25.812103</td>\n",
       "      <td>24.269100</td>\n",
       "      <td>24.302492</td>\n",
       "      <td>24.297718</td>\n",
       "      <td>24.280001</td>\n",
       "      <td>24.270069</td>\n",
       "      <td>24.265360</td>\n",
       "      <td>24.271393</td>\n",
       "      <td>24.273392</td>\n",
       "      <td>2023-01-08 00:29:30</td>\n",
       "      <td>4.00000</td>\n",
       "      <td>0</td>\n",
       "      <td>(3.8, 5.7]</td>\n",
       "      <td>1.0</td>\n",
       "    </tr>\n",
       "    <tr>\n",
       "      <th>3</th>\n",
       "      <td>1</td>\n",
       "      <td>01/08/2023</td>\n",
       "      <td>00:39:30</td>\n",
       "      <td>-18.918213</td>\n",
       "      <td>-48.230446</td>\n",
       "      <td>47.419193</td>\n",
       "      <td>25.660603</td>\n",
       "      <td>24.214598</td>\n",
       "      <td>24.221876</td>\n",
       "      <td>24.217857</td>\n",
       "      <td>24.204088</td>\n",
       "      <td>24.197790</td>\n",
       "      <td>24.205063</td>\n",
       "      <td>24.211004</td>\n",
       "      <td>24.215107</td>\n",
       "      <td>2023-01-08 00:39:30</td>\n",
       "      <td>4.00000</td>\n",
       "      <td>0</td>\n",
       "      <td>(3.8, 5.7]</td>\n",
       "      <td>1.0</td>\n",
       "    </tr>\n",
       "    <tr>\n",
       "      <th>4</th>\n",
       "      <td>1</td>\n",
       "      <td>01/08/2023</td>\n",
       "      <td>00:49:30</td>\n",
       "      <td>-18.918257</td>\n",
       "      <td>-48.230518</td>\n",
       "      <td>47.535355</td>\n",
       "      <td>25.644939</td>\n",
       "      <td>24.157568</td>\n",
       "      <td>24.172058</td>\n",
       "      <td>24.175756</td>\n",
       "      <td>24.176691</td>\n",
       "      <td>24.176956</td>\n",
       "      <td>24.177114</td>\n",
       "      <td>24.167929</td>\n",
       "      <td>24.163687</td>\n",
       "      <td>2023-01-08 00:49:30</td>\n",
       "      <td>3.17097</td>\n",
       "      <td>1</td>\n",
       "      <td>(1.9, 3.8]</td>\n",
       "      <td>0.0</td>\n",
       "    </tr>\n",
       "  </tbody>\n",
       "</table>\n",
       "</div>"
      ],
      "text/plain": [
       "   local        data      hora        lat       long    umidade       t_ex  \\\n",
       "0      1  01/08/2023  00:09:30 -18.918173 -48.230431  47.418488  25.892607   \n",
       "1      1  01/08/2023  00:19:30 -18.918213 -48.230457  47.540405  25.869171   \n",
       "2      1  01/08/2023  00:29:30 -18.918280 -48.230495  47.464645  25.812103   \n",
       "3      1  01/08/2023  00:39:30 -18.918213 -48.230446  47.419193  25.660603   \n",
       "4      1  01/08/2023  00:49:30 -18.918257 -48.230518  47.535355  25.644939   \n",
       "\n",
       "          t1         t2         t3         t4         t5         t6  \\\n",
       "0  24.409178  24.427492  24.427492  24.427549  24.427597  24.427624   \n",
       "1  24.345068  24.364992  24.364992  24.365047  24.365095  24.365124   \n",
       "2  24.269100  24.302492  24.297718  24.280001  24.270069  24.265360   \n",
       "3  24.214598  24.221876  24.217857  24.204088  24.197790  24.205063   \n",
       "4  24.157568  24.172058  24.175756  24.176691  24.176956  24.177114   \n",
       "\n",
       "          t7         t8            data_hora     temp  anormal  temp_faixa  \\\n",
       "0  24.423851  24.415396  2023-01-08 00:09:30  4.00000        0  (3.8, 5.7]   \n",
       "1  24.359230  24.351067  2023-01-08 00:19:30  4.00000        0  (3.8, 5.7]   \n",
       "2  24.271393  24.273392  2023-01-08 00:29:30  4.00000        0  (3.8, 5.7]   \n",
       "3  24.211004  24.215107  2023-01-08 00:39:30  4.00000        0  (3.8, 5.7]   \n",
       "4  24.167929  24.163687  2023-01-08 00:49:30  3.17097        1  (1.9, 3.8]   \n",
       "\n",
       "   ord__temp_faixa  \n",
       "0              1.0  \n",
       "1              1.0  \n",
       "2              1.0  \n",
       "3              1.0  \n",
       "4              0.0  "
      ]
     },
     "execution_count": 90,
     "metadata": {},
     "output_type": "execute_result"
    }
   ],
   "source": [
    "# reconhecendo as primeiras linhas do dataframe\n",
    "df_milk.head(5)"
   ]
  },
  {
   "cell_type": "code",
   "execution_count": 91,
   "metadata": {},
   "outputs": [
    {
     "name": "stdout",
     "output_type": "stream",
     "text": [
      "<class 'pandas.core.frame.DataFrame'>\n",
      "RangeIndex: 1819 entries, 0 to 1818\n",
      "Data columns (total 20 columns):\n",
      " #   Column           Non-Null Count  Dtype  \n",
      "---  ------           --------------  -----  \n",
      " 0   local            1819 non-null   int64  \n",
      " 1   data             1819 non-null   object \n",
      " 2   hora             1819 non-null   object \n",
      " 3   lat              1819 non-null   float64\n",
      " 4   long             1819 non-null   float64\n",
      " 5   umidade          1819 non-null   float64\n",
      " 6   t_ex             1819 non-null   float64\n",
      " 7   t1               1819 non-null   float64\n",
      " 8   t2               1819 non-null   float64\n",
      " 9   t3               1819 non-null   float64\n",
      " 10  t4               1819 non-null   float64\n",
      " 11  t5               1819 non-null   float64\n",
      " 12  t6               1819 non-null   float64\n",
      " 13  t7               1819 non-null   float64\n",
      " 14  t8               1819 non-null   float64\n",
      " 15  data_hora        1819 non-null   object \n",
      " 16  temp             1819 non-null   float64\n",
      " 17  anormal          1819 non-null   int64  \n",
      " 18  temp_faixa       1819 non-null   object \n",
      " 19  ord__temp_faixa  1819 non-null   float64\n",
      "dtypes: float64(14), int64(2), object(4)\n",
      "memory usage: 284.3+ KB\n"
     ]
    }
   ],
   "source": [
    "# verificando a posição de cada variável\n",
    "df_milk.info()"
   ]
  },
  {
   "cell_type": "code",
   "execution_count": 92,
   "metadata": {},
   "outputs": [
    {
     "data": {
      "text/plain": [
       "['local',\n",
       " 'data',\n",
       " 'hora',\n",
       " 'lat',\n",
       " 'long',\n",
       " 'umidade',\n",
       " 't_ex',\n",
       " 't1',\n",
       " 't2',\n",
       " 't3',\n",
       " 't4',\n",
       " 't5',\n",
       " 't6',\n",
       " 't7',\n",
       " 't8',\n",
       " 'data_hora',\n",
       " 'temp',\n",
       " 'anormal',\n",
       " 'temp_faixa',\n",
       " 'ord__temp_faixa']"
      ]
     },
     "execution_count": 92,
     "metadata": {},
     "output_type": "execute_result"
    }
   ],
   "source": [
    "# listando as variáveis do df\n",
    "list(df_milk.columns)"
   ]
  },
  {
   "cell_type": "code",
   "execution_count": 93,
   "metadata": {},
   "outputs": [],
   "source": [
    "# separando variáveis independentes(x) e dependente(y)(target)\n",
    "X = df_milk[[ 'umidade',\n",
    "                't_ex',\n",
    "                't1',\n",
    "                't2',\n",
    "                't3',\n",
    "                't4',\n",
    "                't5',\n",
    "                't6',\n",
    "                't7',\n",
    "                't8',\n",
    "                'ord__temp_faixa'\n",
    "                ]]\n",
    "y = df_milk[['anormal']]"
   ]
  },
  {
   "cell_type": "markdown",
   "metadata": {},
   "source": [
    "- As variáveis que serão utilizadas no treinamento dos nossos modelos são as localizadas a partir da posição 16 do .info(), sendo a variável 'devedor' a target e as demais de 17 até 33 as variáveis independes todas categóricas sendo que as posicionadas de 17 a 19 são categóricas originais e de 20 até 33 são categóricas transformadas."
   ]
  },
  {
   "cell_type": "code",
   "execution_count": 94,
   "metadata": {},
   "outputs": [
    {
     "name": "stdout",
     "output_type": "stream",
     "text": [
      "<class 'pandas.core.frame.DataFrame'>\n",
      "RangeIndex: 1819 entries, 0 to 1818\n",
      "Data columns (total 11 columns):\n",
      " #   Column           Non-Null Count  Dtype  \n",
      "---  ------           --------------  -----  \n",
      " 0   umidade          1819 non-null   float64\n",
      " 1   t_ex             1819 non-null   float64\n",
      " 2   t1               1819 non-null   float64\n",
      " 3   t2               1819 non-null   float64\n",
      " 4   t3               1819 non-null   float64\n",
      " 5   t4               1819 non-null   float64\n",
      " 6   t5               1819 non-null   float64\n",
      " 7   t6               1819 non-null   float64\n",
      " 8   t7               1819 non-null   float64\n",
      " 9   t8               1819 non-null   float64\n",
      " 10  ord__temp_faixa  1819 non-null   float64\n",
      "dtypes: float64(11)\n",
      "memory usage: 156.4 KB\n",
      "X= None\n",
      "<class 'pandas.core.frame.DataFrame'>\n",
      "RangeIndex: 1819 entries, 0 to 1818\n",
      "Data columns (total 1 columns):\n",
      " #   Column   Non-Null Count  Dtype\n",
      "---  ------   --------------  -----\n",
      " 0   anormal  1819 non-null   int64\n",
      "dtypes: int64(1)\n",
      "memory usage: 14.3 KB\n",
      "y= None\n"
     ]
    }
   ],
   "source": [
    "# visualizando as variáveis independentes(x) e dependente(y)\n",
    "print('X=', X.info())\n",
    "print('y=', y.info())"
   ]
  },
  {
   "cell_type": "code",
   "execution_count": 95,
   "metadata": {},
   "outputs": [],
   "source": [
    "# setting hiperparâmetros para definir o tamanho das amostras\n",
    "validation_size = 0.2 \n",
    "seed = 42"
   ]
  },
  {
   "cell_type": "code",
   "execution_count": 96,
   "metadata": {},
   "outputs": [],
   "source": [
    "# separando os sets de treino e teste em 20% para teste e 80% para treino\n",
    "X_train, X_test, Y_train, Y_test = train_test_split(X, y, test_size=validation_size, random_state=seed)"
   ]
  },
  {
   "cell_type": "code",
   "execution_count": 97,
   "metadata": {},
   "outputs": [],
   "source": [
    "# hiperparâmetros do Cross Validation\n",
    "num_folds = 10 \n",
    "scoring = 'roc_auc'"
   ]
  },
  {
   "cell_type": "code",
   "execution_count": 98,
   "metadata": {},
   "outputs": [],
   "source": [
    "# Função para criar modelo, necessária para o KerasClassifier \n",
    "def create_model(neurons=12, activation='relu', learn_rate = 0.01, momentum=0.0): \n",
    "\n",
    "# criar modelo \n",
    "    model = Sequential() \n",
    "    model.add(Dense(X_train.shape[1], input_dim=X_train.shape[1], activation=activation)) \n",
    "    model.add(Dense(32,activation=activation))\n",
    "    model.add(Dense(1, activation='sigmoid')) \n",
    "\n",
    "# Compilar modelo \n",
    "    optimizer = SGD(learning_rate=learn_rate, momentum=momentum) \n",
    "    model.compile(loss='binary_crossentropy', optimizer='adam', metrics=['accuracy']) \n",
    "    return model "
   ]
  },
  {
   "cell_type": "code",
   "execution_count": 99,
   "metadata": {},
   "outputs": [],
   "source": [
    "# implementando os modelos de ML\n",
    "models = [] \n",
    "models.append(('LR', LogisticRegression())) \n",
    "models.append(('LDA', LinearDiscriminantAnalysis())) \n",
    "models.append(('KNN', KNeighborsClassifier()))\n",
    "\n",
    "models.append(('CART', DecisionTreeClassifier())) \n",
    "models.append(('NB', GaussianNB())) \n",
    "\n",
    "# Rede Neural \n",
    "models.append(('NN', MLPClassifier())) \n",
    "\n",
    "# Modelos Ensemble \n",
    "# Métodos Boosting \n",
    "models.append(('AB', AdaBoostClassifier())) \n",
    "models.append(('GBM', GradientBoostingClassifier())) \n",
    "\n",
    "# Métodos Bagging \n",
    "models.append(('RF', RandomForestClassifier()))\n",
    "models.append(('ET', ExtraTreesClassifier()))\n",
    "\n",
    "# Aprendizado Profundo\n",
    "models.append(('DNN', KerasClassifier(build_fn=create_model, epochs=50, batch_size=10, verbose=0) ))"
   ]
  },
  {
   "cell_type": "markdown",
   "metadata": {},
   "source": [
    "- Foi criado uma lista de modelos para automatizar o treinamento e a avaliação de todos eles, evitando que o trabalho fosse feito repetidamente de forma manual, tornando o trabalho mais rápido e preciso."
   ]
  },
  {
   "cell_type": "markdown",
   "metadata": {},
   "source": [
    "### Treinando os Modelos"
   ]
  },
  {
   "cell_type": "code",
   "execution_count": 100,
   "metadata": {},
   "outputs": [
    {
     "name": "stdout",
     "output_type": "stream",
     "text": [
      "LR\n"
     ]
    },
    {
     "name": "stdout",
     "output_type": "stream",
     "text": [
      "fim LR\n",
      "LDA\n",
      "fim LDA\n",
      "KNN\n",
      "fim KNN\n",
      "CART\n",
      "fim CART\n",
      "NB\n",
      "fim NB\n",
      "NN\n",
      "fim NN\n",
      "AB\n",
      "fim AB\n",
      "GBM\n",
      "fim GBM\n",
      "RF\n",
      "fim RF\n",
      "ET\n",
      "fim ET\n",
      "DNN\n",
      "fim DNN\n"
     ]
    }
   ],
   "source": [
    "# obtendo os scores do k-fold\n",
    "# treinando os modelos\n",
    "names = []\n",
    "kfold_results = []\n",
    "test_results = []\n",
    "train_results = []\n",
    "\n",
    "for name, model in models:\n",
    "    names.append(name)\n",
    "\n",
    "    print(name)\n",
    "\n",
    "    # análise k-fold\n",
    "    kfold = KFold(n_splits=num_folds, random_state=None)\n",
    "\n",
    "    # obtem o cross_val_score para avaliação\n",
    "    cv_results = cross_val_score(model, X_train, Y_train, cv= kfold, scoring=scoring, error_score='raise')\n",
    "    kfold_results.append(cv_results)\n",
    "\n",
    "    # treinando o modelo\n",
    "    res = model.fit(X_train, Y_train)   \n",
    "\n",
    "    print('fim', name)"
   ]
  },
  {
   "cell_type": "code",
   "execution_count": 101,
   "metadata": {},
   "outputs": [
    {
     "data": {
      "image/png": "[encoded data removed]",
      "text/plain": [
       "<Figure size 1000x500 with 1 Axes>"
      ]
     },
     "metadata": {},
     "output_type": "display_data"
    }
   ],
   "source": [
    "# comparando resultados da validação cruzada\n",
    "# quanto maior o cross_val_score, o modelo é mais consistente e generalizável\n",
    "fig = pyplot.figure()\n",
    "fig.suptitle('Comparação dos Valores do Kfold')\n",
    "ax = fig.add_subplot(111)\n",
    "pyplot.boxplot(kfold_results)\n",
    "ax.set_xticklabels(names)\n",
    "fig.set_size_inches(10,5)\n",
    "pyplot.savefig('grafic_image/kfold.png', format='png')\n",
    "pyplot.show()"
   ]
  },
  {
   "cell_type": "markdown",
   "metadata": {},
   "source": [
    "- Um valor maior de cross_val_score geralmente sugere que o modelo se adapta melhor aos dados e apresenta um desempenho superior na validação cruzada. \n",
    "- GBM apresenta o melhor resultado do kfold, o maior valor e uma distribuição bem equilibrada, então seria até agora o escolhido baseados nessa avaliação."
   ]
  },
  {
   "cell_type": "code",
   "execution_count": 102,
   "metadata": {},
   "outputs": [
    {
     "name": "stdout",
     "output_type": "stream",
     "text": [
      "Best: 0.988604 using {'max_depth': 5, 'n_estimators': 180}\n"
     ]
    }
   ],
   "source": [
    "# Grid Search: fazendo o ajuste do GradientBoosting \n",
    "n_estimators = [180, 140] # quantidade de árvores (arvore de decisão)\n",
    "max_depth= [5, 4] # profundidade das árvores (arvore de decisão)\n",
    "\n",
    "param_grid = dict(n_estimators=n_estimators, max_depth=max_depth) \n",
    "model = GradientBoostingClassifier() \n",
    "kfold = KFold(n_splits=num_folds, random_state=seed, shuffle=True) \n",
    "grid = GridSearchCV(estimator=model, param_grid=param_grid, scoring=scoring, cv=kfold) \n",
    "grid_result = grid.fit(X_train, Y_train) \n",
    "print('Best: %f using %s' % (grid_result.best_score_, grid_result.best_params_))"
   ]
  },
  {
   "cell_type": "markdown",
   "metadata": {},
   "source": [
    "- Usamos o GridSearchCV para ajustar automaticamente os hiperparâmetros do modelo sendo o melhor resultado encontrado o seguinte, max_depth= 4, n_estimators= 140, então usaremos esses valores para treinar nosso modelo."
   ]
  },
  {
   "cell_type": "code",
   "execution_count": 103,
   "metadata": {},
   "outputs": [
    {
     "name": "stdout",
     "output_type": "stream",
     "text": [
      "0.978021978021978\n"
     ]
    }
   ],
   "source": [
    "# treinando o modelo GBM\n",
    "# fazendo predição com dados de test\n",
    "# apurando a acurácia do modelo\n",
    "# resultados com o conjunto de teste\n",
    "model_GBM = GradientBoostingClassifier(max_depth= 4, n_estimators= 180) \n",
    "model_GBM.fit(X_train, Y_train) \n",
    "\n",
    "# estimar acurácia do conjunto de validação \n",
    "Y_pred = model_GBM.predict(X_test) \n",
    "print(accuracy_score(Y_test, Y_pred))"
   ]
  },
  {
   "cell_type": "markdown",
   "metadata": {},
   "source": [
    "- O nível da acurácia foi de 0.83 ou 83%, níveis entre 70% e 100%, pode-se considerar que há alta precisão dos resultados e baixo risco de erro.\n",
    "- Assim a acurácia do nosso trabalho ficando em 83% é uma ótima acurácia continuando a aprovar o modelo GBM a ser escolhido em nosso trabalho."
   ]
  },
  {
   "cell_type": "code",
   "execution_count": 104,
   "metadata": {},
   "outputs": [
    {
     "data": {
      "text/plain": [
       "array([[158,   1],\n",
       "       [  7, 198]], dtype=int64)"
      ]
     },
     "execution_count": 104,
     "metadata": {},
     "output_type": "execute_result"
    }
   ],
   "source": [
    "# gera a matriz de confusão para análise\n",
    "# a soma da diagonal principal sobre a soma total é o percentual de acerto (acurácia)\n",
    "cnf_matrix = confusion_matrix(Y_test, Y_pred)\n",
    "cnf_matrix"
   ]
  },
  {
   "cell_type": "markdown",
   "metadata": {},
   "source": [
    "- A matriz de confusão traz os valores onde podemos confirmar nossa acurácia: somando-se a diagonal principal e dividindo pela soma total DiagonalPrincipal / (DiagonalPrincipal + DiagonalSecundaria) da matriz de confusão chegamos ao valor de 0.83 ou 83%."
   ]
  },
  {
   "cell_type": "code",
   "execution_count": 105,
   "metadata": {},
   "outputs": [
    {
     "data": {
      "text/plain": [
       "<Axes: >"
      ]
     },
     "execution_count": 105,
     "metadata": {},
     "output_type": "execute_result"
    },
    {
     "data": {
      "image/png": "[encoded data removed]",
      "text/plain": [
       "<Figure size 640x480 with 2 Axes>"
      ]
     },
     "metadata": {},
     "output_type": "display_data"
    }
   ],
   "source": [
    "# plota o gráfico da matriz de confusão\n",
    "sns.heatmap(cnf_matrix, annot=True, cmap='Blues')"
   ]
  },
  {
   "cell_type": "markdown",
   "metadata": {},
   "source": [
    "- Pelas cores plotadas dos valores da matriz de confusão, observamos a predominância da cor escura (maior valor) na diagonal principal, TP e TN."
   ]
  },
  {
   "cell_type": "code",
   "execution_count": 106,
   "metadata": {},
   "outputs": [
    {
     "name": "stdout",
     "output_type": "stream",
     "text": [
      "[0.01185578 0.00791536 0.02859506 0.01862506 0.01391326 0.02057011\n",
      " 0.0659788  0.09011511 0.05342153 0.04506471 0.64394522]\n"
     ]
    },
    {
     "data": {
      "image/png": "[encoded data removed]",
      "text/plain": [
       "<Figure size 640x480 with 1 Axes>"
      ]
     },
     "metadata": {},
     "output_type": "display_data"
    }
   ],
   "source": [
    "# apurando os valores relativos a importância de cada variável no modelo para efeito de comparação entre elas\n",
    "# importância da variável do modelo treinado\n",
    "print(model_GBM.feature_importances_) \n",
    "\n",
    "#usar clase incorporada de importância dos features\n",
    "feat_importances = pd.Series(model_GBM.feature_importances_, index=X.columns) \n",
    "\n",
    "#plotar gráfico de importância de features para melhor visualização \n",
    "feat_importances.nlargest(17).plot(kind='barh') \n",
    "pyplot.show()"
   ]
  },
  {
   "cell_type": "markdown",
   "metadata": {},
   "source": [
    "- Através da plotagem acima vemos que as 5 variáveis de maior importância dentro do modelo GBM se destacam no final do gráfico, essa escala é de grande valia para que se dê mais atenção aos valores das variáveis com maior peso de importância."
   ]
  },
  {
   "cell_type": "code",
   "execution_count": 107,
   "metadata": {},
   "outputs": [
    {
     "name": "stdout",
     "output_type": "stream",
     "text": [
      "[1 1 1 0 1 0 0 1 0 1 1 0 0 1 0 1 1 0 0 1 1 0 0 1 0 0 0 0 0 1 1 0 1 0 1 1 0\n",
      " 0 1 1 1 1 1 1 1 1 1 0 0 0 0 1 1 0 0 1 0 1 1 0 0 0 0 0 0 1 0 0 1 1 1 0 1 1\n",
      " 1 1 0 1 0 0 1 0 1 0 1 1 1 1 0 1 1 1 0 1 0 1 1 1 1 0 1 0 1 0 0 0 0 0 1 1 0\n",
      " 1 0 1 1 1 1 1 1 0 0 1 0 0 0 0 1 0 1 1 1 0 0 1 1 1 0 1 0 0 1 1 1 0 0 0 1 0\n",
      " 0 1 0 1 0 0 1 1 1 0 1 1 0 1 0 1 1 1 1 1 1 1 1 1 1 0 0 1 0 1 1 1 0 0 1 1 1\n",
      " 1 1 0 1 0 0 0 1 1 0 0 0 1 1 0 0 1 1 0 1 1 1 1 1 1 1 1 1 1 1 0 1 1 1 0 0 1\n",
      " 0 1 0 0 1 0 1 1 1 1 0 1 1 1 1 0 1 0 1 0 1 0 1 1 1 1 1 0 0 0 0 0 1 1 0 0 1\n",
      " 1 0 1 1 1 0 1 0 1 0 1 1 0 1 1 0 0 0 1 1 0 0 0 1 0 0 1 0 0 0 0 0 1 0 1 0 1\n",
      " 1 1 0 1 1 1 1 1 0 0 0 1 0 1 0 1 1 0 1 1 1 0 0 1 1 1 1 0 1 1 0 0 0 0 0 0 0\n",
      " 1 1 0 1 0 1 0 0 0 0 0 0 0 1 0 1 1 1 0 0 1 1 0 0 1 0 1 0 1 0 0]\n"
     ]
    }
   ],
   "source": [
    "# visualiza a predição de y\n",
    "print(Y_pred)"
   ]
  },
  {
   "cell_type": "code",
   "execution_count": 108,
   "metadata": {},
   "outputs": [],
   "source": [
    "# transformando array em dataframe\n",
    "df_pred = pd.DataFrame(Y_pred)"
   ]
  },
  {
   "cell_type": "code",
   "execution_count": 109,
   "metadata": {},
   "outputs": [],
   "source": [
    "# renomeia as colunas de resultado da predição\n",
    "df_pred.columns = ['normal_predict']"
   ]
  },
  {
   "cell_type": "code",
   "execution_count": 110,
   "metadata": {},
   "outputs": [
    {
     "data": {
      "text/plain": [
       "normal_predict\n",
       "1                 199\n",
       "0                 165\n",
       "Name: count, dtype: int64"
      ]
     },
     "execution_count": 110,
     "metadata": {},
     "output_type": "execute_result"
    }
   ],
   "source": [
    "# visualizando os dados da predição - qtde de pessoas possíveis devedoras\n",
    "df_pred.value_counts()"
   ]
  },
  {
   "cell_type": "code",
   "execution_count": 111,
   "metadata": {},
   "outputs": [
    {
     "data": {
      "text/plain": [
       "(normal_predict\n",
       " 1                 54.67033\n",
       " 0                 45.32967\n",
       " Name: proportion, dtype: float64,\n",
       " '%')"
      ]
     },
     "execution_count": 111,
     "metadata": {},
     "output_type": "execute_result"
    }
   ],
   "source": [
    "# visualizando os dados da predição com a proporção percentual - % de pessoas possíveis devedoras\n",
    "df_pred.value_counts(normalize=True)*100, '%'"
   ]
  },
  {
   "cell_type": "markdown",
   "metadata": {},
   "source": [
    "- Nessa predição feita sobre a amostra de teste (Y_test) mostra o percentual de pessoas que seriam consideradas devedoras, assim como a quantidade dessas pessoas apresentada logo acima."
   ]
  },
  {
   "cell_type": "code",
   "execution_count": 112,
   "metadata": {},
   "outputs": [],
   "source": [
    "# junta o df da predição dos percentuais com o df de dados originais\n",
    "df_milk = pd.concat([df_milk, df_pred], axis=1)"
   ]
  },
  {
   "cell_type": "code",
   "execution_count": 128,
   "metadata": {},
   "outputs": [
    {
     "data": {
      "text/html": [
       "<div>\n",
       "<style scoped>\n",
       "    .dataframe tbody tr th:only-of-type {\n",
       "        vertical-align: middle;\n",
       "    }\n",
       "\n",
       "    .dataframe tbody tr th {\n",
       "        vertical-align: top;\n",
       "    }\n",
       "\n",
       "    .dataframe thead th {\n",
       "        text-align: right;\n",
       "    }\n",
       "</style>\n",
       "<table border=\"1\" class=\"dataframe\">\n",
       "  <thead>\n",
       "    <tr style=\"text-align: right;\">\n",
       "      <th></th>\n",
       "      <th>local</th>\n",
       "      <th>data</th>\n",
       "      <th>hora</th>\n",
       "      <th>lat</th>\n",
       "      <th>long</th>\n",
       "      <th>umidade</th>\n",
       "      <th>t_ex</th>\n",
       "      <th>t1</th>\n",
       "      <th>t2</th>\n",
       "      <th>t3</th>\n",
       "      <th>t4</th>\n",
       "      <th>t5</th>\n",
       "      <th>t6</th>\n",
       "      <th>t7</th>\n",
       "      <th>t8</th>\n",
       "      <th>data_hora</th>\n",
       "      <th>temp</th>\n",
       "      <th>anormal</th>\n",
       "      <th>temp_faixa</th>\n",
       "      <th>ord__temp_faixa</th>\n",
       "      <th>normal_predict</th>\n",
       "      <th>%normal</th>\n",
       "      <th>%anormal</th>\n",
       "      <th>soma_perc</th>\n",
       "    </tr>\n",
       "  </thead>\n",
       "  <tbody>\n",
       "    <tr>\n",
       "      <th>0</th>\n",
       "      <td>1</td>\n",
       "      <td>01/08/2023</td>\n",
       "      <td>00:09:30</td>\n",
       "      <td>-18.918173</td>\n",
       "      <td>-48.230431</td>\n",
       "      <td>47.418488</td>\n",
       "      <td>25.892607</td>\n",
       "      <td>24.409178</td>\n",
       "      <td>24.427492</td>\n",
       "      <td>24.427492</td>\n",
       "      <td>24.427549</td>\n",
       "      <td>24.427597</td>\n",
       "      <td>24.427624</td>\n",
       "      <td>24.423851</td>\n",
       "      <td>24.415396</td>\n",
       "      <td>2023-01-08 00:09:30</td>\n",
       "      <td>4.00000</td>\n",
       "      <td>0</td>\n",
       "      <td>(3.8, 5.7]</td>\n",
       "      <td>1.0</td>\n",
       "      <td>1.0</td>\n",
       "      <td>0.11</td>\n",
       "      <td>99.89</td>\n",
       "      <td>100.0</td>\n",
       "    </tr>\n",
       "    <tr>\n",
       "      <th>1</th>\n",
       "      <td>1</td>\n",
       "      <td>01/08/2023</td>\n",
       "      <td>00:19:30</td>\n",
       "      <td>-18.918213</td>\n",
       "      <td>-48.230457</td>\n",
       "      <td>47.540405</td>\n",
       "      <td>25.869171</td>\n",
       "      <td>24.345068</td>\n",
       "      <td>24.364992</td>\n",
       "      <td>24.364992</td>\n",
       "      <td>24.365047</td>\n",
       "      <td>24.365095</td>\n",
       "      <td>24.365124</td>\n",
       "      <td>24.359230</td>\n",
       "      <td>24.351067</td>\n",
       "      <td>2023-01-08 00:19:30</td>\n",
       "      <td>4.00000</td>\n",
       "      <td>0</td>\n",
       "      <td>(3.8, 5.7]</td>\n",
       "      <td>1.0</td>\n",
       "      <td>1.0</td>\n",
       "      <td>0.14</td>\n",
       "      <td>99.86</td>\n",
       "      <td>100.0</td>\n",
       "    </tr>\n",
       "    <tr>\n",
       "      <th>2</th>\n",
       "      <td>1</td>\n",
       "      <td>01/08/2023</td>\n",
       "      <td>00:29:30</td>\n",
       "      <td>-18.918280</td>\n",
       "      <td>-48.230495</td>\n",
       "      <td>47.464645</td>\n",
       "      <td>25.812103</td>\n",
       "      <td>24.269100</td>\n",
       "      <td>24.302492</td>\n",
       "      <td>24.297718</td>\n",
       "      <td>24.280001</td>\n",
       "      <td>24.270069</td>\n",
       "      <td>24.265360</td>\n",
       "      <td>24.271393</td>\n",
       "      <td>24.273392</td>\n",
       "      <td>2023-01-08 00:29:30</td>\n",
       "      <td>4.00000</td>\n",
       "      <td>0</td>\n",
       "      <td>(3.8, 5.7]</td>\n",
       "      <td>1.0</td>\n",
       "      <td>1.0</td>\n",
       "      <td>0.20</td>\n",
       "      <td>99.80</td>\n",
       "      <td>100.0</td>\n",
       "    </tr>\n",
       "    <tr>\n",
       "      <th>3</th>\n",
       "      <td>1</td>\n",
       "      <td>01/08/2023</td>\n",
       "      <td>00:39:30</td>\n",
       "      <td>-18.918213</td>\n",
       "      <td>-48.230446</td>\n",
       "      <td>47.419193</td>\n",
       "      <td>25.660603</td>\n",
       "      <td>24.214598</td>\n",
       "      <td>24.221876</td>\n",
       "      <td>24.217857</td>\n",
       "      <td>24.204088</td>\n",
       "      <td>24.197790</td>\n",
       "      <td>24.205063</td>\n",
       "      <td>24.211004</td>\n",
       "      <td>24.215107</td>\n",
       "      <td>2023-01-08 00:39:30</td>\n",
       "      <td>4.00000</td>\n",
       "      <td>0</td>\n",
       "      <td>(3.8, 5.7]</td>\n",
       "      <td>1.0</td>\n",
       "      <td>0.0</td>\n",
       "      <td>99.38</td>\n",
       "      <td>0.62</td>\n",
       "      <td>100.0</td>\n",
       "    </tr>\n",
       "    <tr>\n",
       "      <th>4</th>\n",
       "      <td>1</td>\n",
       "      <td>01/08/2023</td>\n",
       "      <td>00:49:30</td>\n",
       "      <td>-18.918257</td>\n",
       "      <td>-48.230518</td>\n",
       "      <td>47.535355</td>\n",
       "      <td>25.644939</td>\n",
       "      <td>24.157568</td>\n",
       "      <td>24.172058</td>\n",
       "      <td>24.175756</td>\n",
       "      <td>24.176691</td>\n",
       "      <td>24.176956</td>\n",
       "      <td>24.177114</td>\n",
       "      <td>24.167929</td>\n",
       "      <td>24.163687</td>\n",
       "      <td>2023-01-08 00:49:30</td>\n",
       "      <td>3.17097</td>\n",
       "      <td>1</td>\n",
       "      <td>(1.9, 3.8]</td>\n",
       "      <td>0.0</td>\n",
       "      <td>1.0</td>\n",
       "      <td>0.58</td>\n",
       "      <td>99.42</td>\n",
       "      <td>100.0</td>\n",
       "    </tr>\n",
       "  </tbody>\n",
       "</table>\n",
       "</div>"
      ],
      "text/plain": [
       "   local        data      hora        lat       long    umidade       t_ex  \\\n",
       "0      1  01/08/2023  00:09:30 -18.918173 -48.230431  47.418488  25.892607   \n",
       "1      1  01/08/2023  00:19:30 -18.918213 -48.230457  47.540405  25.869171   \n",
       "2      1  01/08/2023  00:29:30 -18.918280 -48.230495  47.464645  25.812103   \n",
       "3      1  01/08/2023  00:39:30 -18.918213 -48.230446  47.419193  25.660603   \n",
       "4      1  01/08/2023  00:49:30 -18.918257 -48.230518  47.535355  25.644939   \n",
       "\n",
       "          t1         t2         t3         t4         t5         t6  \\\n",
       "0  24.409178  24.427492  24.427492  24.427549  24.427597  24.427624   \n",
       "1  24.345068  24.364992  24.364992  24.365047  24.365095  24.365124   \n",
       "2  24.269100  24.302492  24.297718  24.280001  24.270069  24.265360   \n",
       "3  24.214598  24.221876  24.217857  24.204088  24.197790  24.205063   \n",
       "4  24.157568  24.172058  24.175756  24.176691  24.176956  24.177114   \n",
       "\n",
       "          t7         t8            data_hora     temp  anormal  temp_faixa  \\\n",
       "0  24.423851  24.415396  2023-01-08 00:09:30  4.00000        0  (3.8, 5.7]   \n",
       "1  24.359230  24.351067  2023-01-08 00:19:30  4.00000        0  (3.8, 5.7]   \n",
       "2  24.271393  24.273392  2023-01-08 00:29:30  4.00000        0  (3.8, 5.7]   \n",
       "3  24.211004  24.215107  2023-01-08 00:39:30  4.00000        0  (3.8, 5.7]   \n",
       "4  24.167929  24.163687  2023-01-08 00:49:30  3.17097        1  (1.9, 3.8]   \n",
       "\n",
       "   ord__temp_faixa  normal_predict  %normal  %anormal  soma_perc  \n",
       "0              1.0             1.0     0.11     99.89      100.0  \n",
       "1              1.0             1.0     0.14     99.86      100.0  \n",
       "2              1.0             1.0     0.20     99.80      100.0  \n",
       "3              1.0             0.0    99.38      0.62      100.0  \n",
       "4              0.0             1.0     0.58     99.42      100.0  "
      ]
     },
     "execution_count": 128,
     "metadata": {},
     "output_type": "execute_result"
    }
   ],
   "source": [
    "# verifica as primeiras linhas do novo dataframe juntado\n",
    "df_milk.head(5)"
   ]
  },
  {
   "cell_type": "code",
   "execution_count": 114,
   "metadata": {},
   "outputs": [],
   "source": [
    "# aqui vamos fazer a predição de adimplência e inadimplência em percentual de cada linha da amostra\n",
    "y_pred_proba = model_GBM.predict_proba(X_test) "
   ]
  },
  {
   "cell_type": "code",
   "execution_count": 115,
   "metadata": {},
   "outputs": [
    {
     "name": "stdout",
     "output_type": "stream",
     "text": [
      "[[0.00113823 0.99886177]\n",
      " [0.00140771 0.99859229]\n",
      " [0.0020152  0.9979848 ]\n",
      " [0.99378105 0.00621895]\n",
      " [0.0058332  0.9941668 ]\n",
      " [0.98380523 0.01619477]\n",
      " [0.96342522 0.03657478]\n",
      " [0.00744305 0.99255695]\n",
      " [0.98742634 0.01257366]\n",
      " [0.00171522 0.99828478]]\n"
     ]
    }
   ],
   "source": [
    "# visualiza a predição das probabilidades de adimpência e inadimplência\n",
    "print(y_pred_proba[:10])"
   ]
  },
  {
   "cell_type": "code",
   "execution_count": 116,
   "metadata": {},
   "outputs": [],
   "source": [
    "# transforma array em dataframe\n",
    "dfproba = pd.DataFrame(y_pred_proba)"
   ]
  },
  {
   "cell_type": "code",
   "execution_count": 117,
   "metadata": {},
   "outputs": [],
   "source": [
    "# renomeia as colunas de resultado do predict_proba\n",
    "dfproba.columns = ['%normal', '%anormal']"
   ]
  },
  {
   "cell_type": "code",
   "execution_count": 118,
   "metadata": {},
   "outputs": [],
   "source": [
    "# arredonda os resultados com duas casas decimais\n",
    "dfproba = round(dfproba*100, 2)"
   ]
  },
  {
   "cell_type": "code",
   "execution_count": 119,
   "metadata": {},
   "outputs": [],
   "source": [
    "# soma o total de percentuais para checar se fecha em 100%\n",
    "dfproba['soma_perc'] = dfproba['%normal'] + dfproba['%anormal']"
   ]
  },
  {
   "cell_type": "code",
   "execution_count": 126,
   "metadata": {},
   "outputs": [
    {
     "name": "stdout",
     "output_type": "stream",
     "text": [
      "%normal\n",
      "0.19     4.395604\n",
      "0.15     4.120879\n",
      "99.38    3.846154\n",
      "0.11     3.296703\n",
      "0.09     3.021978\n",
      "98.62    2.747253\n",
      "0.17     2.472527\n",
      "0.14     2.472527\n",
      "98.74    2.197802\n",
      "0.20     2.197802\n",
      "0.53     2.197802\n",
      "0.18     1.923077\n",
      "0.04     1.923077\n",
      "98.13    1.648352\n",
      "98.23    1.373626\n",
      "98.05    1.098901\n",
      "3.56     1.098901\n",
      "0.25     1.098901\n",
      "0.16     1.098901\n",
      "98.65    1.098901\n",
      "95.83    1.098901\n",
      "5.49     0.824176\n",
      "0.56     0.824176\n",
      "0.30     0.824176\n",
      "96.09    0.824176\n",
      "98.68    0.824176\n",
      "0.03     0.824176\n",
      "0.65     0.824176\n",
      "99.23    0.824176\n",
      "95.43    0.824176\n",
      "0.27     0.824176\n",
      "99.19    0.824176\n",
      "98.81    0.824176\n",
      "0.21     0.549451\n",
      "0.58     0.549451\n",
      "98.52    0.549451\n",
      "94.27    0.549451\n",
      "96.63    0.549451\n",
      "98.25    0.549451\n",
      "0.29     0.549451\n",
      "97.99    0.549451\n",
      "0.22     0.549451\n",
      "0.67     0.549451\n",
      "96.19    0.549451\n",
      "0.40     0.549451\n",
      "0.50     0.549451\n",
      "3.68     0.549451\n",
      "96.93    0.549451\n",
      "8.05     0.549451\n",
      "98.45    0.549451\n",
      "4.97     0.549451\n",
      "97.42    0.549451\n",
      "98.21    0.549451\n",
      "98.24    0.549451\n",
      "95.77    0.549451\n",
      "98.64    0.549451\n",
      "88.94    0.549451\n",
      "3.54     0.274725\n",
      "13.53    0.274725\n",
      "94.61    0.274725\n",
      "0.05     0.274725\n",
      "98.07    0.274725\n",
      "0.24     0.274725\n",
      "93.78    0.274725\n",
      "0.12     0.274725\n",
      "1.73     0.274725\n",
      "3.64     0.274725\n",
      "1.09     0.274725\n",
      "22.85    0.274725\n",
      "92.40    0.274725\n",
      "91.66    0.274725\n",
      "97.36    0.274725\n",
      "0.32     0.274725\n",
      "96.67    0.274725\n",
      "95.64    0.274725\n",
      "94.38    0.274725\n",
      "96.98    0.274725\n",
      "86.23    0.274725\n",
      "89.00    0.274725\n",
      "91.97    0.274725\n",
      "0.10     0.274725\n",
      "96.37    0.274725\n",
      "95.92    0.274725\n",
      "97.92    0.274725\n",
      "86.67    0.274725\n",
      "95.18    0.274725\n",
      "1.65     0.274725\n",
      "19.97    0.274725\n",
      "96.11    0.274725\n",
      "6.28     0.274725\n",
      "4.42     0.274725\n",
      "98.29    0.274725\n",
      "34.86    0.274725\n",
      "94.50    0.274725\n",
      "97.12    0.274725\n",
      "96.75    0.274725\n",
      "0.44     0.274725\n",
      "94.73    0.274725\n",
      "0.57     0.274725\n",
      "90.11    0.274725\n",
      "7.80     0.274725\n",
      "97.85    0.274725\n",
      "96.05    0.274725\n",
      "98.60    0.274725\n",
      "0.82     0.274725\n",
      "81.64    0.274725\n",
      "0.62     0.274725\n",
      "63.17    0.274725\n",
      "1.82     0.274725\n",
      "96.07    0.274725\n",
      "0.07     0.274725\n",
      "0.02     0.274725\n",
      "4.24     0.274725\n",
      "0.49     0.274725\n",
      "69.05    0.274725\n",
      "92.35    0.274725\n",
      "83.18    0.274725\n",
      "97.41    0.274725\n",
      "73.33    0.274725\n",
      "72.09    0.274725\n",
      "94.69    0.274725\n",
      "94.88    0.274725\n",
      "97.31    0.274725\n",
      "7.11     0.274725\n",
      "98.30    0.274725\n",
      "98.28    0.274725\n",
      "94.97    0.274725\n",
      "0.28     0.274725\n",
      "0.36     0.274725\n",
      "93.55    0.274725\n",
      "0.63     0.274725\n",
      "97.65    0.274725\n",
      "98.44    0.274725\n",
      "3.78     0.274725\n",
      "89.70    0.274725\n",
      "6.97     0.274725\n",
      "97.62    0.274725\n",
      "0.74     0.274725\n",
      "0.38     0.274725\n",
      "76.44    0.274725\n",
      "96.23    0.274725\n",
      "97.46    0.274725\n",
      "10.71    0.274725\n",
      "96.60    0.274725\n",
      "1.11     0.274725\n",
      "8.13     0.274725\n",
      "0.66     0.274725\n",
      "12.95    0.274725\n",
      "0.26     0.274725\n",
      "5.65     0.274725\n",
      "0.52     0.274725\n",
      "96.26    0.274725\n",
      "0.31     0.274725\n",
      "97.15    0.274725\n",
      "10.57    0.274725\n",
      "50.99    0.274725\n",
      "95.94    0.274725\n",
      "0.06     0.274725\n",
      "67.26    0.274725\n",
      "11.63    0.274725\n",
      "98.42    0.274725\n",
      "98.37    0.274725\n",
      "98.41    0.274725\n",
      "36.35    0.274725\n",
      "98.38    0.274725\n",
      "96.34    0.274725\n",
      "97.14    0.274725\n",
      "97.04    0.274725\n",
      "Name: proportion, dtype: float64 %\n"
     ]
    }
   ],
   "source": [
    "print(dfproba['%normal'].value_counts(normalize=True)*100, '%')"
   ]
  },
  {
   "cell_type": "code",
   "execution_count": 120,
   "metadata": {},
   "outputs": [
    {
     "data": {
      "text/html": [
       "<div>\n",
       "<style scoped>\n",
       "    .dataframe tbody tr th:only-of-type {\n",
       "        vertical-align: middle;\n",
       "    }\n",
       "\n",
       "    .dataframe tbody tr th {\n",
       "        vertical-align: top;\n",
       "    }\n",
       "\n",
       "    .dataframe thead th {\n",
       "        text-align: right;\n",
       "    }\n",
       "</style>\n",
       "<table border=\"1\" class=\"dataframe\">\n",
       "  <thead>\n",
       "    <tr style=\"text-align: right;\">\n",
       "      <th></th>\n",
       "      <th>%normal</th>\n",
       "      <th>%anormal</th>\n",
       "      <th>soma_perc</th>\n",
       "    </tr>\n",
       "  </thead>\n",
       "  <tbody>\n",
       "    <tr>\n",
       "      <th>0</th>\n",
       "      <td>0.11</td>\n",
       "      <td>99.89</td>\n",
       "      <td>100.0</td>\n",
       "    </tr>\n",
       "    <tr>\n",
       "      <th>1</th>\n",
       "      <td>0.14</td>\n",
       "      <td>99.86</td>\n",
       "      <td>100.0</td>\n",
       "    </tr>\n",
       "    <tr>\n",
       "      <th>2</th>\n",
       "      <td>0.20</td>\n",
       "      <td>99.80</td>\n",
       "      <td>100.0</td>\n",
       "    </tr>\n",
       "    <tr>\n",
       "      <th>3</th>\n",
       "      <td>99.38</td>\n",
       "      <td>0.62</td>\n",
       "      <td>100.0</td>\n",
       "    </tr>\n",
       "    <tr>\n",
       "      <th>4</th>\n",
       "      <td>0.58</td>\n",
       "      <td>99.42</td>\n",
       "      <td>100.0</td>\n",
       "    </tr>\n",
       "    <tr>\n",
       "      <th>5</th>\n",
       "      <td>98.38</td>\n",
       "      <td>1.62</td>\n",
       "      <td>100.0</td>\n",
       "    </tr>\n",
       "    <tr>\n",
       "      <th>6</th>\n",
       "      <td>96.34</td>\n",
       "      <td>3.66</td>\n",
       "      <td>100.0</td>\n",
       "    </tr>\n",
       "    <tr>\n",
       "      <th>7</th>\n",
       "      <td>0.74</td>\n",
       "      <td>99.26</td>\n",
       "      <td>100.0</td>\n",
       "    </tr>\n",
       "    <tr>\n",
       "      <th>8</th>\n",
       "      <td>98.74</td>\n",
       "      <td>1.26</td>\n",
       "      <td>100.0</td>\n",
       "    </tr>\n",
       "    <tr>\n",
       "      <th>9</th>\n",
       "      <td>0.17</td>\n",
       "      <td>99.83</td>\n",
       "      <td>100.0</td>\n",
       "    </tr>\n",
       "  </tbody>\n",
       "</table>\n",
       "</div>"
      ],
      "text/plain": [
       "   %normal  %anormal  soma_perc\n",
       "0     0.11     99.89      100.0\n",
       "1     0.14     99.86      100.0\n",
       "2     0.20     99.80      100.0\n",
       "3    99.38      0.62      100.0\n",
       "4     0.58     99.42      100.0\n",
       "5    98.38      1.62      100.0\n",
       "6    96.34      3.66      100.0\n",
       "7     0.74     99.26      100.0\n",
       "8    98.74      1.26      100.0\n",
       "9     0.17     99.83      100.0"
      ]
     },
     "execution_count": 120,
     "metadata": {},
     "output_type": "execute_result"
    }
   ],
   "source": [
    "# exibe o dataframe de cada classe de período para checar os percentuais\n",
    "dfproba.head(10)"
   ]
  },
  {
   "cell_type": "markdown",
   "metadata": {},
   "source": [
    "- Através do predict_proba podemos definir o percentual de cada linha de ocorrer inadimplência e ao mesmo tempo de ocorrer a adimplência com relação ao pagamento do empréstimo tomado."
   ]
  },
  {
   "cell_type": "code",
   "execution_count": 121,
   "metadata": {},
   "outputs": [],
   "source": [
    "# junta o df da predição dos percentuais com o df de dados originais\n",
    "df_milk = pd.concat([df_milk, dfproba], axis=1)"
   ]
  },
  {
   "cell_type": "code",
   "execution_count": 122,
   "metadata": {},
   "outputs": [
    {
     "data": {
      "text/html": [
       "<div>\n",
       "<style scoped>\n",
       "    .dataframe tbody tr th:only-of-type {\n",
       "        vertical-align: middle;\n",
       "    }\n",
       "\n",
       "    .dataframe tbody tr th {\n",
       "        vertical-align: top;\n",
       "    }\n",
       "\n",
       "    .dataframe thead th {\n",
       "        text-align: right;\n",
       "    }\n",
       "</style>\n",
       "<table border=\"1\" class=\"dataframe\">\n",
       "  <thead>\n",
       "    <tr style=\"text-align: right;\">\n",
       "      <th></th>\n",
       "      <th>local</th>\n",
       "      <th>data</th>\n",
       "      <th>hora</th>\n",
       "      <th>lat</th>\n",
       "      <th>long</th>\n",
       "      <th>umidade</th>\n",
       "      <th>t_ex</th>\n",
       "      <th>t1</th>\n",
       "      <th>t2</th>\n",
       "      <th>t3</th>\n",
       "      <th>t4</th>\n",
       "      <th>t5</th>\n",
       "      <th>t6</th>\n",
       "      <th>t7</th>\n",
       "      <th>t8</th>\n",
       "      <th>data_hora</th>\n",
       "      <th>temp</th>\n",
       "      <th>anormal</th>\n",
       "      <th>temp_faixa</th>\n",
       "      <th>ord__temp_faixa</th>\n",
       "      <th>normal_predict</th>\n",
       "      <th>%normal</th>\n",
       "      <th>%anormal</th>\n",
       "      <th>soma_perc</th>\n",
       "    </tr>\n",
       "  </thead>\n",
       "  <tbody>\n",
       "    <tr>\n",
       "      <th>0</th>\n",
       "      <td>1</td>\n",
       "      <td>01/08/2023</td>\n",
       "      <td>00:09:30</td>\n",
       "      <td>-18.918173</td>\n",
       "      <td>-48.230431</td>\n",
       "      <td>47.418488</td>\n",
       "      <td>25.892607</td>\n",
       "      <td>24.409178</td>\n",
       "      <td>24.427492</td>\n",
       "      <td>24.427492</td>\n",
       "      <td>24.427549</td>\n",
       "      <td>24.427597</td>\n",
       "      <td>24.427624</td>\n",
       "      <td>24.423851</td>\n",
       "      <td>24.415396</td>\n",
       "      <td>2023-01-08 00:09:30</td>\n",
       "      <td>4.00000</td>\n",
       "      <td>0</td>\n",
       "      <td>(3.8, 5.7]</td>\n",
       "      <td>1.0</td>\n",
       "      <td>1.0</td>\n",
       "      <td>0.11</td>\n",
       "      <td>99.89</td>\n",
       "      <td>100.0</td>\n",
       "    </tr>\n",
       "    <tr>\n",
       "      <th>1</th>\n",
       "      <td>1</td>\n",
       "      <td>01/08/2023</td>\n",
       "      <td>00:19:30</td>\n",
       "      <td>-18.918213</td>\n",
       "      <td>-48.230457</td>\n",
       "      <td>47.540405</td>\n",
       "      <td>25.869171</td>\n",
       "      <td>24.345068</td>\n",
       "      <td>24.364992</td>\n",
       "      <td>24.364992</td>\n",
       "      <td>24.365047</td>\n",
       "      <td>24.365095</td>\n",
       "      <td>24.365124</td>\n",
       "      <td>24.359230</td>\n",
       "      <td>24.351067</td>\n",
       "      <td>2023-01-08 00:19:30</td>\n",
       "      <td>4.00000</td>\n",
       "      <td>0</td>\n",
       "      <td>(3.8, 5.7]</td>\n",
       "      <td>1.0</td>\n",
       "      <td>1.0</td>\n",
       "      <td>0.14</td>\n",
       "      <td>99.86</td>\n",
       "      <td>100.0</td>\n",
       "    </tr>\n",
       "    <tr>\n",
       "      <th>2</th>\n",
       "      <td>1</td>\n",
       "      <td>01/08/2023</td>\n",
       "      <td>00:29:30</td>\n",
       "      <td>-18.918280</td>\n",
       "      <td>-48.230495</td>\n",
       "      <td>47.464645</td>\n",
       "      <td>25.812103</td>\n",
       "      <td>24.269100</td>\n",
       "      <td>24.302492</td>\n",
       "      <td>24.297718</td>\n",
       "      <td>24.280001</td>\n",
       "      <td>24.270069</td>\n",
       "      <td>24.265360</td>\n",
       "      <td>24.271393</td>\n",
       "      <td>24.273392</td>\n",
       "      <td>2023-01-08 00:29:30</td>\n",
       "      <td>4.00000</td>\n",
       "      <td>0</td>\n",
       "      <td>(3.8, 5.7]</td>\n",
       "      <td>1.0</td>\n",
       "      <td>1.0</td>\n",
       "      <td>0.20</td>\n",
       "      <td>99.80</td>\n",
       "      <td>100.0</td>\n",
       "    </tr>\n",
       "    <tr>\n",
       "      <th>3</th>\n",
       "      <td>1</td>\n",
       "      <td>01/08/2023</td>\n",
       "      <td>00:39:30</td>\n",
       "      <td>-18.918213</td>\n",
       "      <td>-48.230446</td>\n",
       "      <td>47.419193</td>\n",
       "      <td>25.660603</td>\n",
       "      <td>24.214598</td>\n",
       "      <td>24.221876</td>\n",
       "      <td>24.217857</td>\n",
       "      <td>24.204088</td>\n",
       "      <td>24.197790</td>\n",
       "      <td>24.205063</td>\n",
       "      <td>24.211004</td>\n",
       "      <td>24.215107</td>\n",
       "      <td>2023-01-08 00:39:30</td>\n",
       "      <td>4.00000</td>\n",
       "      <td>0</td>\n",
       "      <td>(3.8, 5.7]</td>\n",
       "      <td>1.0</td>\n",
       "      <td>0.0</td>\n",
       "      <td>99.38</td>\n",
       "      <td>0.62</td>\n",
       "      <td>100.0</td>\n",
       "    </tr>\n",
       "    <tr>\n",
       "      <th>4</th>\n",
       "      <td>1</td>\n",
       "      <td>01/08/2023</td>\n",
       "      <td>00:49:30</td>\n",
       "      <td>-18.918257</td>\n",
       "      <td>-48.230518</td>\n",
       "      <td>47.535355</td>\n",
       "      <td>25.644939</td>\n",
       "      <td>24.157568</td>\n",
       "      <td>24.172058</td>\n",
       "      <td>24.175756</td>\n",
       "      <td>24.176691</td>\n",
       "      <td>24.176956</td>\n",
       "      <td>24.177114</td>\n",
       "      <td>24.167929</td>\n",
       "      <td>24.163687</td>\n",
       "      <td>2023-01-08 00:49:30</td>\n",
       "      <td>3.17097</td>\n",
       "      <td>1</td>\n",
       "      <td>(1.9, 3.8]</td>\n",
       "      <td>0.0</td>\n",
       "      <td>1.0</td>\n",
       "      <td>0.58</td>\n",
       "      <td>99.42</td>\n",
       "      <td>100.0</td>\n",
       "    </tr>\n",
       "  </tbody>\n",
       "</table>\n",
       "</div>"
      ],
      "text/plain": [
       "   local        data      hora        lat       long    umidade       t_ex  \\\n",
       "0      1  01/08/2023  00:09:30 -18.918173 -48.230431  47.418488  25.892607   \n",
       "1      1  01/08/2023  00:19:30 -18.918213 -48.230457  47.540405  25.869171   \n",
       "2      1  01/08/2023  00:29:30 -18.918280 -48.230495  47.464645  25.812103   \n",
       "3      1  01/08/2023  00:39:30 -18.918213 -48.230446  47.419193  25.660603   \n",
       "4      1  01/08/2023  00:49:30 -18.918257 -48.230518  47.535355  25.644939   \n",
       "\n",
       "          t1         t2         t3         t4         t5         t6  \\\n",
       "0  24.409178  24.427492  24.427492  24.427549  24.427597  24.427624   \n",
       "1  24.345068  24.364992  24.364992  24.365047  24.365095  24.365124   \n",
       "2  24.269100  24.302492  24.297718  24.280001  24.270069  24.265360   \n",
       "3  24.214598  24.221876  24.217857  24.204088  24.197790  24.205063   \n",
       "4  24.157568  24.172058  24.175756  24.176691  24.176956  24.177114   \n",
       "\n",
       "          t7         t8            data_hora     temp  anormal  temp_faixa  \\\n",
       "0  24.423851  24.415396  2023-01-08 00:09:30  4.00000        0  (3.8, 5.7]   \n",
       "1  24.359230  24.351067  2023-01-08 00:19:30  4.00000        0  (3.8, 5.7]   \n",
       "2  24.271393  24.273392  2023-01-08 00:29:30  4.00000        0  (3.8, 5.7]   \n",
       "3  24.211004  24.215107  2023-01-08 00:39:30  4.00000        0  (3.8, 5.7]   \n",
       "4  24.167929  24.163687  2023-01-08 00:49:30  3.17097        1  (1.9, 3.8]   \n",
       "\n",
       "   ord__temp_faixa  normal_predict  %normal  %anormal  soma_perc  \n",
       "0              1.0             1.0     0.11     99.89      100.0  \n",
       "1              1.0             1.0     0.14     99.86      100.0  \n",
       "2              1.0             1.0     0.20     99.80      100.0  \n",
       "3              1.0             0.0    99.38      0.62      100.0  \n",
       "4              0.0             1.0     0.58     99.42      100.0  "
      ]
     },
     "execution_count": 122,
     "metadata": {},
     "output_type": "execute_result"
    }
   ],
   "source": [
    "# verifica as primeiras linhas do novo dataframe juntado\n",
    "df_milk.head(5)"
   ]
  },
  {
   "cell_type": "markdown",
   "metadata": {},
   "source": [
    "## Faz o Deploy do Modelo"
   ]
  },
  {
   "cell_type": "code",
   "execution_count": 123,
   "metadata": {},
   "outputs": [
    {
     "data": {
      "text/plain": [
       "['models/GBM_milk_quality_class.pkl']"
      ]
     },
     "execution_count": 123,
     "metadata": {},
     "output_type": "execute_result"
    }
   ],
   "source": [
    "# faz o deploy do modelo para ser utilizado posteriormente\n",
    "from joblib import dump\n",
    "\n",
    "dump(model_GBM, 'models/GBM_milk_quality_class.pkl')"
   ]
  }
 ],
 "metadata": {
  "kernelspec": {
   "display_name": "Python 3",
   "language": "python",
   "name": "python3"
  },
  "language_info": {
   "codemirror_mode": {
    "name": "ipython",
    "version": 3
   },
   "file_extension": ".py",
   "mimetype": "text/x-python",
   "name": "python",
   "nbconvert_exporter": "python",
   "pygments_lexer": "ipython3",
   "version": "3.11.5"
  }
 },
 "nbformat": 4,
 "nbformat_minor": 2
}
