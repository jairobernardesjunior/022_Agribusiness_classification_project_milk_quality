{
 "cells": [
  {
   "cell_type": "markdown",
   "metadata": {},
   "source": [
    "## Project milk quality\n",
    "\n",
    "### Objective:\n",
    "- In this project we are going to the investigative phase of Milk_Diagnostic (a device for collecting and sending milk data on the farm via SMS), we are going to carry out a survey of the variation in milk temperature over a given period. Here we will make a prediction of these temperatures, using reinforcement learning for the next few minutes to alert both the producer and the collecting company about a possible spike in the temperature of the milk stored on the farm, before the event happens.\n",
    "\n",
    "- Nesse projeto vamos para a fase investigatória do Milk_Diagnostic (aparelho de coleta e envio de dados do leite na fazenda via sms), vamos treinar um modelo de classificação, utilizando modelos de machine learning para demonstrar se a variação de temperatura indica alguma anomalia ou não de contaminação no leite que está armazenado no tanque da fazenda, aguardando ser recolhido.\n",
    "\n",
    "### Data Origin:\n",
    "- Dataset: MILK_temperature.TXT\n",
    "\n",
    "- Through the Milk_Diagnostic equipment (device for collecting and sending milk data on the farm via SMS) data on milk temperature, ambient temperature, date, time, humidity, geographic coordinates, are transferred daily from the farm's milk reservoir every 10 minutes (configurable), 24 hours a day, 7 days a week.\n",
    "\n",
    "- Através do equipamento Milk_Diagnostic (aparelho de coleta e envio de dados do leite na fazenda via sms)os dados de temperatura do leite, temperatura ambiente, data, hora, umidade, coordenadas geográficas, são transferidos diariamente do reservatório de leite da fazenda a cada 10 minutos (configurável), 24 horas por dia durante os 7 dias da semana.\n",
    "\n",
    "Aqui está o que as colunas representam:\n",
    "\n",
    "    local: identificador da fazendo origem do leite\n",
    "    data: data da coleta da temperatura\n",
    "    hora: hora, minutos e segundos da coleta da temperatura\n",
    "    lat: latitude do local da fazenda\n",
    "    long: longitude do local da fazenda\n",
    "    umidade: umidade ambiente do local do tanque de leite\n",
    "    t_ex: temperatura ambiente do local do tanque de leite\n",
    "    t1, t2, t3, t4, t5, t6, t7, t8: \n",
    "        temperaturas coletadas dentro do intervalo configurado para envio (10 minutos para esse trabalho)"
   ]
  },
  {
   "cell_type": "markdown",
   "metadata": {},
   "source": [
    "- ## Análise exploratória dos dados\n",
    "- ## Preparação dos dados\n",
    "- ## Armazenamento dos dados tratados"
   ]
  },
  {
   "cell_type": "code",
   "execution_count": 206,
   "metadata": {},
   "outputs": [],
   "source": [
    "# maximiza nro de linhas e colunas para exibição\n",
    "# inibe mensagens de warning\n",
    "import pandas as pd\n",
    "pd.set_option('display.max_rows', None) # permite a máxima visualização das linhas em um display\n",
    "pd.set_option('display.max_columns', None) # permite a máxima visualização das colunas em um display\n",
    "import warnings\n",
    "warnings.simplefilter('ignore') # inibe a exibição de avisos de warning"
   ]
  },
  {
   "cell_type": "code",
   "execution_count": 207,
   "metadata": {},
   "outputs": [],
   "source": [
    "# preparação e visualização de dados\n",
    "from sklearn.compose import ColumnTransformer # Aplica transformadores a colunas de um array ou pandas DataFrame\n",
    "\n",
    "from sklearn.preprocessing import OrdinalEncoder # convertendo dados categoricos em numerico (categoria sequencial)\n",
    "from sklearn.preprocessing import OneHotEncoder # convertendo dados categoricos em numerico (categoria - coluna)\n",
    "\n",
    "from matplotlib import pyplot # plotagem gráfica\n",
    "import seaborn as sns # plotagem gráfica baseada em matplotlib\n",
    "import numpy as np # computação de matrizes"
   ]
  },
  {
   "cell_type": "code",
   "execution_count": 208,
   "metadata": {},
   "outputs": [],
   "source": [
    "# preparação e visualização de dados\n",
    "from matplotlib import pyplot as plt # plotagem gráfica"
   ]
  },
  {
   "cell_type": "code",
   "execution_count": 209,
   "metadata": {},
   "outputs": [],
   "source": [
    "# carregando dados do arquivo\n",
    "df_milk = pd.read_csv('dataset/MILK_temperature.csv', sep='p')"
   ]
  },
  {
   "cell_type": "code",
   "execution_count": 210,
   "metadata": {},
   "outputs": [
    {
     "data": {
      "text/plain": [
       "(14327, 16)"
      ]
     },
     "execution_count": 210,
     "metadata": {},
     "output_type": "execute_result"
    }
   ],
   "source": [
    "# verificando a quantidade de linhas e colunas do dataframe\n",
    "df_milk.shape"
   ]
  },
  {
   "cell_type": "code",
   "execution_count": 211,
   "metadata": {},
   "outputs": [
    {
     "data": {
      "text/html": [
       "<div>\n",
       "<style scoped>\n",
       "    .dataframe tbody tr th:only-of-type {\n",
       "        vertical-align: middle;\n",
       "    }\n",
       "\n",
       "    .dataframe tbody tr th {\n",
       "        vertical-align: top;\n",
       "    }\n",
       "\n",
       "    .dataframe thead th {\n",
       "        text-align: right;\n",
       "    }\n",
       "</style>\n",
       "<table border=\"1\" class=\"dataframe\">\n",
       "  <thead>\n",
       "    <tr style=\"text-align: right;\">\n",
       "      <th></th>\n",
       "      <th>local</th>\n",
       "      <th>data</th>\n",
       "      <th>hora</th>\n",
       "      <th>lat</th>\n",
       "      <th>long</th>\n",
       "      <th>umidade</th>\n",
       "      <th>t_ex</th>\n",
       "      <th>t1</th>\n",
       "      <th>t2</th>\n",
       "      <th>t3</th>\n",
       "      <th>t4</th>\n",
       "      <th>t5</th>\n",
       "      <th>t6</th>\n",
       "      <th>t7</th>\n",
       "      <th>t8</th>\n",
       "      <th>Unnamed: 15</th>\n",
       "    </tr>\n",
       "  </thead>\n",
       "  <tbody>\n",
       "    <tr>\n",
       "      <th>0</th>\n",
       "      <td>1</td>\n",
       "      <td>0/ 0/2000</td>\n",
       "      <td>6:36:19</td>\n",
       "      <td>-18.918142</td>\n",
       "      <td>-48.230560</td>\n",
       "      <td>67.000000</td>\n",
       "      <td>26.799999</td>\n",
       "      <td>NAN</td>\n",
       "      <td>10.7400</td>\n",
       "      <td>0.0</td>\n",
       "      <td>0.0</td>\n",
       "      <td>0.0</td>\n",
       "      <td>0.0</td>\n",
       "      <td>0.0</td>\n",
       "      <td>0.0</td>\n",
       "      <td>NaN</td>\n",
       "    </tr>\n",
       "    <tr>\n",
       "      <th>1</th>\n",
       "      <td>1</td>\n",
       "      <td>0/ 0/2000</td>\n",
       "      <td>8:14:46</td>\n",
       "      <td>-18.918184</td>\n",
       "      <td>-48.230553</td>\n",
       "      <td>53.000000</td>\n",
       "      <td>26.700001</td>\n",
       "      <td>NAN</td>\n",
       "      <td>25.0525</td>\n",
       "      <td>0.0</td>\n",
       "      <td>0.0</td>\n",
       "      <td>0.0</td>\n",
       "      <td>0.0</td>\n",
       "      <td>0.0</td>\n",
       "      <td>0.0</td>\n",
       "      <td>NaN</td>\n",
       "    </tr>\n",
       "    <tr>\n",
       "      <th>2</th>\n",
       "      <td>1</td>\n",
       "      <td>0/ 0/2000</td>\n",
       "      <td>8:34:31</td>\n",
       "      <td>-18.918177</td>\n",
       "      <td>-48.230583</td>\n",
       "      <td>44.000000</td>\n",
       "      <td>26.600000</td>\n",
       "      <td>NAN</td>\n",
       "      <td>24.1150</td>\n",
       "      <td>0.0</td>\n",
       "      <td>0.0</td>\n",
       "      <td>0.0</td>\n",
       "      <td>0.0</td>\n",
       "      <td>0.0</td>\n",
       "      <td>0.0</td>\n",
       "      <td>NaN</td>\n",
       "    </tr>\n",
       "  </tbody>\n",
       "</table>\n",
       "</div>"
      ],
      "text/plain": [
       "   local        data      hora        lat       long    umidade       t_ex  \\\n",
       "0      1   0/ 0/2000   6:36:19 -18.918142 -48.230560  67.000000  26.799999   \n",
       "1      1   0/ 0/2000   8:14:46 -18.918184 -48.230553  53.000000  26.700001   \n",
       "2      1   0/ 0/2000   8:34:31 -18.918177 -48.230583  44.000000  26.600000   \n",
       "\n",
       "          t1       t2   t3   t4   t5   t6   t7   t8  Unnamed: 15  \n",
       "0        NAN  10.7400  0.0  0.0  0.0  0.0  0.0  0.0          NaN  \n",
       "1        NAN  25.0525  0.0  0.0  0.0  0.0  0.0  0.0          NaN  \n",
       "2        NAN  24.1150  0.0  0.0  0.0  0.0  0.0  0.0          NaN  "
      ]
     },
     "execution_count": 211,
     "metadata": {},
     "output_type": "execute_result"
    }
   ],
   "source": [
    "# reconhecendo as primeiras linhas do dataframe\n",
    "df_milk.head(3)"
   ]
  },
  {
   "cell_type": "code",
   "execution_count": null,
   "metadata": {},
   "outputs": [],
   "source": []
  },
  {
   "cell_type": "code",
   "execution_count": 212,
   "metadata": {},
   "outputs": [],
   "source": [
    "# eliminando a última coluna sem dados\n",
    "colunas = list(df_milk.columns)\n",
    "\n",
    "df_milk = df_milk[colunas[:15]]"
   ]
  },
  {
   "cell_type": "code",
   "execution_count": 213,
   "metadata": {},
   "outputs": [
    {
     "name": "stdout",
     "output_type": "stream",
     "text": [
      "<class 'pandas.core.frame.DataFrame'>\n",
      "RangeIndex: 14327 entries, 0 to 14326\n",
      "Data columns (total 15 columns):\n",
      " #   Column   Non-Null Count  Dtype  \n",
      "---  ------   --------------  -----  \n",
      " 0   local    14327 non-null  int64  \n",
      " 1   data     14327 non-null  object \n",
      " 2   hora     14327 non-null  object \n",
      " 3   lat      14327 non-null  float64\n",
      " 4   long     14327 non-null  float64\n",
      " 5   umidade  14327 non-null  object \n",
      " 6   t_ex     14327 non-null  object \n",
      " 7   t1       14327 non-null  object \n",
      " 8   t2       14327 non-null  float64\n",
      " 9   t3       14327 non-null  float64\n",
      " 10  t4       14327 non-null  float64\n",
      " 11  t5       14327 non-null  float64\n",
      " 12  t6       14327 non-null  float64\n",
      " 13  t7       14327 non-null  float64\n",
      " 14  t8       14327 non-null  float64\n",
      "dtypes: float64(9), int64(1), object(5)\n",
      "memory usage: 1.6+ MB\n"
     ]
    }
   ],
   "source": [
    "# verificando a estrutura das variáveis e se tem algum dados nulo\n",
    "df_milk.info()"
   ]
  },
  {
   "cell_type": "code",
   "execution_count": 214,
   "metadata": {},
   "outputs": [
    {
     "data": {
      "text/plain": [
       "array([' 0/ 0/2000', ' 1/ 8/2023', ' 1/ 9/2023', ' 1/10/2023',\n",
       "       ' 1/11/2023', ' 2/ 8/2023', ' 2/10/2023', ' 2/11/2023',\n",
       "       ' 3/ 8/2023', ' 3/10/2023', ' 3/11/2023', ' 4/ 8/2023',\n",
       "       ' 4/ 9/2023', ' 4/10/2023', ' 4/11/2023', ' 5/ 8/2023',\n",
       "       ' 5/10/2023', ' 5/11/2023', ' 5/12/2023', ' 6/ 8/2023',\n",
       "       ' 6/10/2023', ' 6/11/2023', ' 7/ 8/2023', ' 7/10/2023',\n",
       "       ' 7/11/2023', ' 8/ 9/2023', ' 8/10/2023', ' 8/11/2023',\n",
       "       ' 9/ 8/2023', ' 9/ 9/2023', ' 9/10/2023', ' 9/11/2023',\n",
       "       ' 9/12/2023', '10/ 9/2023', '10/10/2023', '10/11/2023',\n",
       "       '11/ 8/2023', '11/ 9/2023', '11/10/2023', '12/ 9/2023',\n",
       "       '12/10/2023', '13/ 7/2023', '13/ 8/2023', '13/ 9/2023',\n",
       "       '13/10/2023', '14/ 7/2023', '14/ 8/2023', '14/ 9/2023',\n",
       "       '14/10/2023', '15/ 7/2023', '15/ 8/2023', '15/ 9/2023',\n",
       "       '15/10/2023', '16/ 7/2023', '16/ 9/2023', '16/10/2023',\n",
       "       '17/ 7/2023', '17/ 9/2023', '17/10/2023', '18/ 7/2023',\n",
       "       '18/ 9/2023', '18/10/2023', '19/ 7/2023', '19/ 9/2023',\n",
       "       '19/10/2023', '20/ 7/2023', '20/ 9/2023', '20/10/2023',\n",
       "       '21/ 7/2023', '21/ 9/2023', '21/10/2023', '22/ 7/2023',\n",
       "       '22/ 8/2023', '22/ 9/2023', '22/10/2023', '23/ 7/2023',\n",
       "       '23/ 8/2023', '23/ 9/2023', '23/10/2023', '24/ 7/2023',\n",
       "       '24/ 9/2023', '24/10/2023', '25/ 7/2023', '25/ 9/2023',\n",
       "       '25/10/2023', '26/ 7/2023', '26/ 9/2023', '26/10/2023',\n",
       "       '27/ 7/2023', '27/ 9/2023', '27/10/2023', '28/ 7/2023',\n",
       "       '28/ 8/2023', '28/ 9/2023', '28/10/2023', '29/ 7/2023',\n",
       "       '29/ 8/2023', '29/ 9/2023', '29/10/2023', '30/ 7/2023',\n",
       "       '30/ 8/2023', '30/ 9/2023', '30/10/2023', '31/ 7/2023',\n",
       "       '31/ 8/2023', '31/10/2023'], dtype=object)"
      ]
     },
     "execution_count": 214,
     "metadata": {},
     "output_type": "execute_result"
    }
   ],
   "source": [
    "# verificando as datas que precisam de correção\n",
    "df_milk.data.unique()"
   ]
  },
  {
   "cell_type": "code",
   "execution_count": 215,
   "metadata": {},
   "outputs": [],
   "source": [
    "# eliminando data inválida\n",
    "df_remove = df_milk.loc[(df_milk['data'] == ' 0/ 0/2000')]\n",
    "df_milk = df_milk.drop(df_remove.index)"
   ]
  },
  {
   "cell_type": "code",
   "execution_count": 216,
   "metadata": {},
   "outputs": [],
   "source": [
    "# troca espaços por zero na data\n",
    "def substitui_espacos_data(data): \n",
    "    return data.replace(' ', '0')"
   ]
  },
  {
   "cell_type": "code",
   "execution_count": 217,
   "metadata": {},
   "outputs": [],
   "source": [
    "# troca espaços por zero na hora e modifica hora inválida para nulo\n",
    "def substitui_espacos_hora(hora): \n",
    "    hora = hora.replace(' ', '0')\n",
    "    \n",
    "    if hora[3] == ':':\n",
    "        #hora = '0' + hora[2:]\n",
    "        hora = None\n",
    "\n",
    "    return hora"
   ]
  },
  {
   "cell_type": "code",
   "execution_count": 218,
   "metadata": {},
   "outputs": [],
   "source": [
    "# invoca as funções para substituir espaços por zeros e hora por nulo\n",
    "df_milk['data'] = df_milk['data'].apply(substitui_espacos_data)\n",
    "df_milk['hora'] = df_milk['hora'].apply(substitui_espacos_hora)"
   ]
  },
  {
   "cell_type": "code",
   "execution_count": 219,
   "metadata": {},
   "outputs": [],
   "source": [
    "# cria coluna com data e hora completa\n",
    "df_milk['data_hora'] = df_milk['data'] + ' ' + df_milk['hora']"
   ]
  },
  {
   "cell_type": "code",
   "execution_count": 220,
   "metadata": {},
   "outputs": [],
   "source": [
    "# convertendo o tipo de dados da variável\n",
    "df_milk['t1'] = df_milk['t1'].astype('float64')\n",
    "df_milk['umidade'] = df_milk['umidade'].astype('float64')\n",
    "df_milk['t_ex'] = df_milk['t_ex'].astype('float64')\n",
    "df_milk['data_hora'] = df_milk['data_hora'].astype('datetime64[ns]')"
   ]
  },
  {
   "cell_type": "code",
   "execution_count": 221,
   "metadata": {},
   "outputs": [],
   "source": [
    "# eliminando mês maior que 07\n",
    "df_remove = df_milk.loc[(df_milk.data_hora.dt.month > 6)]\n",
    "df_milk = df_milk.drop(df_remove.index)"
   ]
  },
  {
   "cell_type": "markdown",
   "metadata": {},
   "source": [
    "- Vamos considerar somente dados até o mês 06 por apresentar melhores dados coletados"
   ]
  },
  {
   "cell_type": "code",
   "execution_count": 222,
   "metadata": {},
   "outputs": [],
   "source": [
    "# eliminando dados inválidos\n",
    "df_remove = df_milk.loc[(df_milk['t_ex'] < 0.1) | \n",
    "                        (df_milk['t1'] < 0.1) | \n",
    "                        (df_milk['t2'] < 0.1) | \n",
    "                        (df_milk['t3'] < 0.1) | \n",
    "                        (df_milk['t4'] < 0.1) | \n",
    "                        (df_milk['t5'] < 0.1) | \n",
    "                        (df_milk['t6'] < 0.1) | \n",
    "                        (df_milk['t7'] < 0.1) | \n",
    "                        (df_milk['t8'] < 0.1) | \n",
    "                        (df_milk['umidade'] < 0.1)\n",
    "                        ]\n",
    "df_milk = df_milk.drop(df_remove.index)"
   ]
  },
  {
   "cell_type": "markdown",
   "metadata": {},
   "source": [
    "- Foram eliminadas temperaturas negativas e zeradas"
   ]
  },
  {
   "cell_type": "code",
   "execution_count": 223,
   "metadata": {},
   "outputs": [
    {
     "data": {
      "text/plain": [
       "local  data   hora   lat    long   umidade  t_ex   t1     t2     t3     t4     t5     t6     t7     t8     data_hora\n",
       "False  False  False  False  False  False    False  False  False  False  False  False  False  False  False  False        2058\n",
       "              True   False  False  False    False  False  False  False  False  False  False  False  False  True         1619\n",
       "              False  False  False  False    False  True   False  False  False  False  False  False  False  False           5\n",
       "Name: count, dtype: int64"
      ]
     },
     "execution_count": 223,
     "metadata": {},
     "output_type": "execute_result"
    }
   ],
   "source": [
    "# verificando a existência de nulos\n",
    "df_milk.isnull().value_counts()"
   ]
  },
  {
   "cell_type": "code",
   "execution_count": 224,
   "metadata": {},
   "outputs": [
    {
     "name": "stdout",
     "output_type": "stream",
     "text": [
      "<class 'pandas.core.frame.DataFrame'>\n",
      "Index: 3682 entries, 11 to 14326\n",
      "Data columns (total 16 columns):\n",
      " #   Column     Non-Null Count  Dtype         \n",
      "---  ------     --------------  -----         \n",
      " 0   local      3682 non-null   int64         \n",
      " 1   data       3682 non-null   object        \n",
      " 2   hora       2063 non-null   object        \n",
      " 3   lat        3682 non-null   float64       \n",
      " 4   long       3682 non-null   float64       \n",
      " 5   umidade    3682 non-null   float64       \n",
      " 6   t_ex       3682 non-null   float64       \n",
      " 7   t1         3677 non-null   float64       \n",
      " 8   t2         3682 non-null   float64       \n",
      " 9   t3         3682 non-null   float64       \n",
      " 10  t4         3682 non-null   float64       \n",
      " 11  t5         3682 non-null   float64       \n",
      " 12  t6         3682 non-null   float64       \n",
      " 13  t7         3682 non-null   float64       \n",
      " 14  t8         3682 non-null   float64       \n",
      " 15  data_hora  2063 non-null   datetime64[ns]\n",
      "dtypes: datetime64[ns](1), float64(12), int64(1), object(2)\n",
      "memory usage: 489.0+ KB\n"
     ]
    }
   ],
   "source": [
    "# confirmando a presença de nulos nos dados\n",
    "df_milk.info()"
   ]
  },
  {
   "cell_type": "code",
   "execution_count": 225,
   "metadata": {},
   "outputs": [
    {
     "data": {
      "text/plain": [
       "local           0\n",
       "data            0\n",
       "hora         1619\n",
       "lat             0\n",
       "long            0\n",
       "umidade         0\n",
       "t_ex            0\n",
       "t1              5\n",
       "t2              0\n",
       "t3              0\n",
       "t4              0\n",
       "t5              0\n",
       "t6              0\n",
       "t7              0\n",
       "t8              0\n",
       "data_hora    1619\n",
       "dtype: int64"
      ]
     },
     "execution_count": 225,
     "metadata": {},
     "output_type": "execute_result"
    }
   ],
   "source": [
    "# confirmando quais variáveis possuem nulos\n",
    "df_milk.isnull().sum()"
   ]
  },
  {
   "cell_type": "markdown",
   "metadata": {},
   "source": [
    "- A hora e t1 possuem nulos que serão eliminados no próximo passo"
   ]
  },
  {
   "cell_type": "code",
   "execution_count": 226,
   "metadata": {},
   "outputs": [],
   "source": [
    "# apagando linhas com nulos\n",
    "df_milk = df_milk.dropna()"
   ]
  },
  {
   "cell_type": "code",
   "execution_count": 227,
   "metadata": {},
   "outputs": [
    {
     "data": {
      "text/plain": [
       "2"
      ]
     },
     "execution_count": 227,
     "metadata": {},
     "output_type": "execute_result"
    }
   ],
   "source": [
    "# verificando se existe registros duplicados\n",
    "df_milk.duplicated().sum()"
   ]
  },
  {
   "cell_type": "code",
   "execution_count": 228,
   "metadata": {},
   "outputs": [],
   "source": [
    "# apagando linhas duplicadas\n",
    "df_milk = df_milk.drop_duplicates()"
   ]
  },
  {
   "cell_type": "code",
   "execution_count": 229,
   "metadata": {},
   "outputs": [
    {
     "data": {
      "text/plain": [
       "(2056, 16)"
      ]
     },
     "execution_count": 229,
     "metadata": {},
     "output_type": "execute_result"
    }
   ],
   "source": [
    "# verificando quantas linhas sobraram\n",
    "df_milk.shape"
   ]
  },
  {
   "cell_type": "markdown",
   "metadata": {},
   "source": [
    "- Após a eliminação de algumas linhas verificamos que sobrou um nro satisfatório para a realização do nosso treinamento do modelo de aprendizado por reforço."
   ]
  },
  {
   "cell_type": "code",
   "execution_count": 230,
   "metadata": {},
   "outputs": [],
   "source": [
    "# ordenando o dataframe pela data e hora\n",
    "df_milk = df_milk.sort_values(by='data_hora')"
   ]
  },
  {
   "cell_type": "code",
   "execution_count": 231,
   "metadata": {},
   "outputs": [],
   "source": [
    "# resetando o index e apagando a coluna do indice antigo\n",
    "df_milk = df_milk.reset_index()\n",
    "df_milk = df_milk.drop(columns='index')"
   ]
  },
  {
   "cell_type": "code",
   "execution_count": 232,
   "metadata": {},
   "outputs": [
    {
     "name": "stdout",
     "output_type": "stream",
     "text": [
      "<class 'pandas.core.frame.DataFrame'>\n",
      "RangeIndex: 2056 entries, 0 to 2055\n",
      "Data columns (total 16 columns):\n",
      " #   Column     Non-Null Count  Dtype         \n",
      "---  ------     --------------  -----         \n",
      " 0   local      2056 non-null   int64         \n",
      " 1   data       2056 non-null   object        \n",
      " 2   hora       2056 non-null   object        \n",
      " 3   lat        2056 non-null   float64       \n",
      " 4   long       2056 non-null   float64       \n",
      " 5   umidade    2056 non-null   float64       \n",
      " 6   t_ex       2056 non-null   float64       \n",
      " 7   t1         2056 non-null   float64       \n",
      " 8   t2         2056 non-null   float64       \n",
      " 9   t3         2056 non-null   float64       \n",
      " 10  t4         2056 non-null   float64       \n",
      " 11  t5         2056 non-null   float64       \n",
      " 12  t6         2056 non-null   float64       \n",
      " 13  t7         2056 non-null   float64       \n",
      " 14  t8         2056 non-null   float64       \n",
      " 15  data_hora  2056 non-null   datetime64[ns]\n",
      "dtypes: datetime64[ns](1), float64(12), int64(1), object(2)\n",
      "memory usage: 257.1+ KB\n"
     ]
    }
   ],
   "source": [
    "# fazendo uma análise geral das variáveis que sobraram e suas características\n",
    "df_milk.info()"
   ]
  },
  {
   "cell_type": "code",
   "execution_count": 233,
   "metadata": {},
   "outputs": [],
   "source": [
    "# cria uma coluna de média dos 8 valores da temperatura do leite capturados no intervalo de envio\n",
    "df_milk['temp'] = (df_milk['t1'] + df_milk['t2'] + df_milk['t3'] + df_milk['t4'] + \\\n",
    "                   df_milk['t5'] + df_milk['t6'] + df_milk['t7'] + df_milk['t8']) / 8 "
   ]
  },
  {
   "cell_type": "code",
   "execution_count": 234,
   "metadata": {},
   "outputs": [
    {
     "data": {
      "text/html": [
       "<div>\n",
       "<style scoped>\n",
       "    .dataframe tbody tr th:only-of-type {\n",
       "        vertical-align: middle;\n",
       "    }\n",
       "\n",
       "    .dataframe tbody tr th {\n",
       "        vertical-align: top;\n",
       "    }\n",
       "\n",
       "    .dataframe thead th {\n",
       "        text-align: right;\n",
       "    }\n",
       "</style>\n",
       "<table border=\"1\" class=\"dataframe\">\n",
       "  <thead>\n",
       "    <tr style=\"text-align: right;\">\n",
       "      <th></th>\n",
       "      <th>temp</th>\n",
       "      <th>t_ex</th>\n",
       "      <th>umidade</th>\n",
       "    </tr>\n",
       "  </thead>\n",
       "  <tbody>\n",
       "    <tr>\n",
       "      <th>0</th>\n",
       "      <td>24.423272</td>\n",
       "      <td>25.892607</td>\n",
       "      <td>47.418488</td>\n",
       "    </tr>\n",
       "    <tr>\n",
       "      <th>1</th>\n",
       "      <td>24.360077</td>\n",
       "      <td>25.869171</td>\n",
       "      <td>47.540405</td>\n",
       "    </tr>\n",
       "    <tr>\n",
       "      <th>2</th>\n",
       "      <td>24.278691</td>\n",
       "      <td>25.812103</td>\n",
       "      <td>47.464645</td>\n",
       "    </tr>\n",
       "    <tr>\n",
       "      <th>3</th>\n",
       "      <td>24.210923</td>\n",
       "      <td>25.660603</td>\n",
       "      <td>47.419193</td>\n",
       "    </tr>\n",
       "    <tr>\n",
       "      <th>4</th>\n",
       "      <td>24.170970</td>\n",
       "      <td>25.644939</td>\n",
       "      <td>47.535355</td>\n",
       "    </tr>\n",
       "    <tr>\n",
       "      <th>5</th>\n",
       "      <td>24.111838</td>\n",
       "      <td>25.609079</td>\n",
       "      <td>47.424244</td>\n",
       "    </tr>\n",
       "    <tr>\n",
       "      <th>6</th>\n",
       "      <td>24.066316</td>\n",
       "      <td>25.467169</td>\n",
       "      <td>47.166668</td>\n",
       "    </tr>\n",
       "    <tr>\n",
       "      <th>7</th>\n",
       "      <td>23.982315</td>\n",
       "      <td>25.413635</td>\n",
       "      <td>47.176769</td>\n",
       "    </tr>\n",
       "    <tr>\n",
       "      <th>8</th>\n",
       "      <td>23.893088</td>\n",
       "      <td>25.347979</td>\n",
       "      <td>47.060608</td>\n",
       "    </tr>\n",
       "    <tr>\n",
       "      <th>9</th>\n",
       "      <td>23.914008</td>\n",
       "      <td>25.316149</td>\n",
       "      <td>47.257576</td>\n",
       "    </tr>\n",
       "  </tbody>\n",
       "</table>\n",
       "</div>"
      ],
      "text/plain": [
       "        temp       t_ex    umidade\n",
       "0  24.423272  25.892607  47.418488\n",
       "1  24.360077  25.869171  47.540405\n",
       "2  24.278691  25.812103  47.464645\n",
       "3  24.210923  25.660603  47.419193\n",
       "4  24.170970  25.644939  47.535355\n",
       "5  24.111838  25.609079  47.424244\n",
       "6  24.066316  25.467169  47.166668\n",
       "7  23.982315  25.413635  47.176769\n",
       "8  23.893088  25.347979  47.060608\n",
       "9  23.914008  25.316149  47.257576"
      ]
     },
     "execution_count": 234,
     "metadata": {},
     "output_type": "execute_result"
    }
   ],
   "source": [
    "# verificando as variáveis que serão utilizadas nesse trabalho\n",
    "df_milk[['temp', 't_ex', 'umidade']].head(10)"
   ]
  },
  {
   "cell_type": "markdown",
   "metadata": {},
   "source": [
    "- A temperatura do leite 'temp' está com um valor acima do normal (seria em torno de 4°) pois foi gerada em laboratório utilizando o milk diagnostic.\n",
    "- Vamos então fazer uma correção nessa temperatura para aproximá-la da real."
   ]
  },
  {
   "cell_type": "code",
   "execution_count": 235,
   "metadata": {},
   "outputs": [],
   "source": [
    "# corrige a temperatura do leite gerada em laboratório\n",
    "def temperatura_leite(temp):\n",
    "    if int(temp) > 4:\n",
    "        temp = (4 + (temp%1)) \n",
    "\n",
    "    if temp <= 4.2:\n",
    "        temp = (3 + (temp%1)) \n",
    "    elif temp <= 4.6:\n",
    "        temp = 4.0\n",
    "    elif temp <= 4.8:\n",
    "        temp = (5 + (temp%1)) \n",
    "    elif temp <= 4.9:\n",
    "        temp = (6 + (temp%1))\n",
    "    else:\n",
    "        temp = (7 + (temp%1))           \n",
    "        \n",
    "    return temp"
   ]
  },
  {
   "cell_type": "code",
   "execution_count": 236,
   "metadata": {},
   "outputs": [],
   "source": [
    "# invoca a função para correção da temperatura\n",
    "df_milk.temp = df_milk['temp'].apply(temperatura_leite)"
   ]
  },
  {
   "cell_type": "code",
   "execution_count": 237,
   "metadata": {},
   "outputs": [
    {
     "data": {
      "image/png": "[encoded data removed]",
      "text/plain": [
       "<Figure size 1500x500 with 1 Axes>"
      ]
     },
     "metadata": {},
     "output_type": "display_data"
    }
   ],
   "source": [
    "# plotando a evolução da temperatura do leite ajustada\n",
    "fig,ax = plt.subplots(ncols=1,figsize=(15,5))\n",
    "\n",
    "plt.plot(df_milk.data_hora, df_milk.temp, label = \"Temperatura do Leite °C\", linewidth=1, color='red') \n",
    "\n",
    "plt.title('Temperatura do Leite')\n",
    "plt.legend() \n",
    "\n",
    "plt.savefig('grafic_image/Dados_temp_leite_fazenda.png', format='png')\n",
    "plt.show()"
   ]
  },
  {
   "cell_type": "markdown",
   "metadata": {},
   "source": [
    "- O gráfico nos revela que há períodos de variação estável da temperatura, variando em torno de 3°C e 4°C o que seria normal na refrigeração.\n",
    "\n",
    "- Vemos que apresenta períodos de picos entre 3°C e 8°C que podem acontecer devido a mistura de leite novo que é acrescentado ao tanque toda manhã ou por anomalias resultado da contaminação do leite, essas variações mais altas são as que nos interessam identificar e avisar ao produtor e à empresa captadora do evento acontecido, servindo também como histórico para o controle de qualidade do leite.\n",
    "\n",
    "- Esses picos são fundamentais para o treinamento do modelo de aprendizado por reforço, pois são eles que carregam as características de variação da temperatura que será ensinada ao modelo no seu treino."
   ]
  },
  {
   "cell_type": "code",
   "execution_count": 238,
   "metadata": {},
   "outputs": [
    {
     "data": {
      "image/png": "[encoded data removed]",
      "text/plain": [
       "<Figure size 1500x500 with 1 Axes>"
      ]
     },
     "metadata": {},
     "output_type": "display_data"
    }
   ],
   "source": [
    "# plotando a evolução da temperatura ambiente e da umidade ambiente onde estava o aparelho Milk Diagnostic\n",
    "fig,ax = plt.subplots(ncols=1,figsize=(15,5))\n",
    "\n",
    "plt.plot(df_milk.data_hora, df_milk.t_ex, label = \"Temperatura Ambiente °C\", linewidth=1, color='blue') \n",
    "plt.plot(df_milk.data_hora, df_milk.umidade, label = \"Umidade Ambiente %\", linewidth=1, color='orange')  \n",
    "\n",
    "plt.title('Temperatura Ambiente - Umidade Ambiente')\n",
    "plt.legend() \n",
    "\n",
    "plt.savefig('grafic_image/Dados_ambiente_leite_fazenda.png', format='png')\n",
    "plt.show()"
   ]
  },
  {
   "cell_type": "markdown",
   "metadata": {},
   "source": [
    "- Observamos houve uma variação normal tanto da umidade ambiente (entre 10% e 95%) como da temperatura ambiente (entre 20°C e 35°C)."
   ]
  },
  {
   "cell_type": "code",
   "execution_count": 239,
   "metadata": {},
   "outputs": [],
   "source": [
    "# separa parte inteira de numero\n",
    "def inteiro(nro):\n",
    "    return int(nro)"
   ]
  },
  {
   "cell_type": "code",
   "execution_count": 247,
   "metadata": {},
   "outputs": [
    {
     "name": "stdout",
     "output_type": "stream",
     "text": [
      "temp_int\n",
      "4    44.492912\n",
      "5    22.464558\n",
      "3    22.355507\n",
      "6    10.687023\n",
      "Name: proportion, dtype: float64\n"
     ]
    }
   ],
   "source": [
    "# verificando o percentual das faixas de temperaturas existentes\n",
    "dfx=df_milk[['temp']]\n",
    "dfx['temp_int'] = dfx.temp.apply(inteiro)\n",
    "print(dfx.temp_int.value_counts(normalize=True)*100)"
   ]
  },
  {
   "cell_type": "code",
   "execution_count": 241,
   "metadata": {},
   "outputs": [],
   "source": [
    "# eliminando mês maior ou igual que 07\n",
    "df_remove = df_milk.loc[(df_milk.temp >= 7)]\n",
    "df_milk = df_milk.drop(df_remove.index)"
   ]
  },
  {
   "cell_type": "code",
   "execution_count": 242,
   "metadata": {},
   "outputs": [],
   "source": [
    "# define coluna anormal\n",
    "def anormal(temp):\n",
    "    anormal=0\n",
    "    if temp<3.5 or temp>4.5:\n",
    "        anormal=1\n",
    "    \n",
    "    return anormal"
   ]
  },
  {
   "cell_type": "code",
   "execution_count": 243,
   "metadata": {},
   "outputs": [],
   "source": [
    "# invoca função para criar coluna anormal\n",
    "df_milk['anormal'] = df_milk.temp.apply(anormal)"
   ]
  },
  {
   "cell_type": "code",
   "execution_count": 244,
   "metadata": {},
   "outputs": [
    {
     "data": {
      "text/html": [
       "<div>\n",
       "<style scoped>\n",
       "    .dataframe tbody tr th:only-of-type {\n",
       "        vertical-align: middle;\n",
       "    }\n",
       "\n",
       "    .dataframe tbody tr th {\n",
       "        vertical-align: top;\n",
       "    }\n",
       "\n",
       "    .dataframe thead th {\n",
       "        text-align: right;\n",
       "    }\n",
       "</style>\n",
       "<table border=\"1\" class=\"dataframe\">\n",
       "  <thead>\n",
       "    <tr style=\"text-align: right;\">\n",
       "      <th></th>\n",
       "      <th>local</th>\n",
       "      <th>data</th>\n",
       "      <th>hora</th>\n",
       "      <th>lat</th>\n",
       "      <th>long</th>\n",
       "      <th>umidade</th>\n",
       "      <th>t_ex</th>\n",
       "      <th>t1</th>\n",
       "      <th>t2</th>\n",
       "      <th>t3</th>\n",
       "      <th>t4</th>\n",
       "      <th>t5</th>\n",
       "      <th>t6</th>\n",
       "      <th>t7</th>\n",
       "      <th>t8</th>\n",
       "      <th>data_hora</th>\n",
       "      <th>temp</th>\n",
       "      <th>anormal</th>\n",
       "    </tr>\n",
       "  </thead>\n",
       "  <tbody>\n",
       "    <tr>\n",
       "      <th>0</th>\n",
       "      <td>1</td>\n",
       "      <td>01/08/2023</td>\n",
       "      <td>00:09:30</td>\n",
       "      <td>-18.918173</td>\n",
       "      <td>-48.230431</td>\n",
       "      <td>47.418488</td>\n",
       "      <td>25.892607</td>\n",
       "      <td>24.409178</td>\n",
       "      <td>24.427492</td>\n",
       "      <td>24.427492</td>\n",
       "      <td>24.427549</td>\n",
       "      <td>24.427597</td>\n",
       "      <td>24.427624</td>\n",
       "      <td>24.423851</td>\n",
       "      <td>24.415396</td>\n",
       "      <td>2023-01-08 00:09:30</td>\n",
       "      <td>4.00000</td>\n",
       "      <td>0</td>\n",
       "    </tr>\n",
       "    <tr>\n",
       "      <th>1</th>\n",
       "      <td>1</td>\n",
       "      <td>01/08/2023</td>\n",
       "      <td>00:19:30</td>\n",
       "      <td>-18.918213</td>\n",
       "      <td>-48.230457</td>\n",
       "      <td>47.540405</td>\n",
       "      <td>25.869171</td>\n",
       "      <td>24.345068</td>\n",
       "      <td>24.364992</td>\n",
       "      <td>24.364992</td>\n",
       "      <td>24.365047</td>\n",
       "      <td>24.365095</td>\n",
       "      <td>24.365124</td>\n",
       "      <td>24.359230</td>\n",
       "      <td>24.351067</td>\n",
       "      <td>2023-01-08 00:19:30</td>\n",
       "      <td>4.00000</td>\n",
       "      <td>0</td>\n",
       "    </tr>\n",
       "    <tr>\n",
       "      <th>2</th>\n",
       "      <td>1</td>\n",
       "      <td>01/08/2023</td>\n",
       "      <td>00:29:30</td>\n",
       "      <td>-18.918280</td>\n",
       "      <td>-48.230495</td>\n",
       "      <td>47.464645</td>\n",
       "      <td>25.812103</td>\n",
       "      <td>24.269100</td>\n",
       "      <td>24.302492</td>\n",
       "      <td>24.297718</td>\n",
       "      <td>24.280001</td>\n",
       "      <td>24.270069</td>\n",
       "      <td>24.265360</td>\n",
       "      <td>24.271393</td>\n",
       "      <td>24.273392</td>\n",
       "      <td>2023-01-08 00:29:30</td>\n",
       "      <td>4.00000</td>\n",
       "      <td>0</td>\n",
       "    </tr>\n",
       "    <tr>\n",
       "      <th>3</th>\n",
       "      <td>1</td>\n",
       "      <td>01/08/2023</td>\n",
       "      <td>00:39:30</td>\n",
       "      <td>-18.918213</td>\n",
       "      <td>-48.230446</td>\n",
       "      <td>47.419193</td>\n",
       "      <td>25.660603</td>\n",
       "      <td>24.214598</td>\n",
       "      <td>24.221876</td>\n",
       "      <td>24.217857</td>\n",
       "      <td>24.204088</td>\n",
       "      <td>24.197790</td>\n",
       "      <td>24.205063</td>\n",
       "      <td>24.211004</td>\n",
       "      <td>24.215107</td>\n",
       "      <td>2023-01-08 00:39:30</td>\n",
       "      <td>4.00000</td>\n",
       "      <td>0</td>\n",
       "    </tr>\n",
       "    <tr>\n",
       "      <th>4</th>\n",
       "      <td>1</td>\n",
       "      <td>01/08/2023</td>\n",
       "      <td>00:49:30</td>\n",
       "      <td>-18.918257</td>\n",
       "      <td>-48.230518</td>\n",
       "      <td>47.535355</td>\n",
       "      <td>25.644939</td>\n",
       "      <td>24.157568</td>\n",
       "      <td>24.172058</td>\n",
       "      <td>24.175756</td>\n",
       "      <td>24.176691</td>\n",
       "      <td>24.176956</td>\n",
       "      <td>24.177114</td>\n",
       "      <td>24.167929</td>\n",
       "      <td>24.163687</td>\n",
       "      <td>2023-01-08 00:49:30</td>\n",
       "      <td>3.17097</td>\n",
       "      <td>1</td>\n",
       "    </tr>\n",
       "  </tbody>\n",
       "</table>\n",
       "</div>"
      ],
      "text/plain": [
       "   local        data      hora        lat       long    umidade       t_ex  \\\n",
       "0      1  01/08/2023  00:09:30 -18.918173 -48.230431  47.418488  25.892607   \n",
       "1      1  01/08/2023  00:19:30 -18.918213 -48.230457  47.540405  25.869171   \n",
       "2      1  01/08/2023  00:29:30 -18.918280 -48.230495  47.464645  25.812103   \n",
       "3      1  01/08/2023  00:39:30 -18.918213 -48.230446  47.419193  25.660603   \n",
       "4      1  01/08/2023  00:49:30 -18.918257 -48.230518  47.535355  25.644939   \n",
       "\n",
       "          t1         t2         t3         t4         t5         t6  \\\n",
       "0  24.409178  24.427492  24.427492  24.427549  24.427597  24.427624   \n",
       "1  24.345068  24.364992  24.364992  24.365047  24.365095  24.365124   \n",
       "2  24.269100  24.302492  24.297718  24.280001  24.270069  24.265360   \n",
       "3  24.214598  24.221876  24.217857  24.204088  24.197790  24.205063   \n",
       "4  24.157568  24.172058  24.175756  24.176691  24.176956  24.177114   \n",
       "\n",
       "          t7         t8           data_hora     temp  anormal  \n",
       "0  24.423851  24.415396 2023-01-08 00:09:30  4.00000        0  \n",
       "1  24.359230  24.351067 2023-01-08 00:19:30  4.00000        0  \n",
       "2  24.271393  24.273392 2023-01-08 00:29:30  4.00000        0  \n",
       "3  24.211004  24.215107 2023-01-08 00:39:30  4.00000        0  \n",
       "4  24.167929  24.163687 2023-01-08 00:49:30  3.17097        1  "
      ]
     },
     "execution_count": 244,
     "metadata": {},
     "output_type": "execute_result"
    }
   ],
   "source": [
    "# verifica variavel criada\n",
    "df_milk.head(5)"
   ]
  },
  {
   "cell_type": "code",
   "execution_count": 245,
   "metadata": {},
   "outputs": [
    {
     "name": "stdout",
     "output_type": "stream",
     "text": [
      "anormal\n",
      "1    55.507088\n",
      "0    44.492912\n",
      "Name: proportion, dtype: float64\n"
     ]
    }
   ],
   "source": [
    "# verificando o percentual da variável anormal\n",
    "print(df_milk.anormal.value_counts(normalize=True)*100)"
   ]
  },
  {
   "cell_type": "code",
   "execution_count": 248,
   "metadata": {},
   "outputs": [
    {
     "data": {
      "text/plain": [
       "['local',\n",
       " 'data',\n",
       " 'hora',\n",
       " 'lat',\n",
       " 'long',\n",
       " 'umidade',\n",
       " 't_ex',\n",
       " 't1',\n",
       " 't2',\n",
       " 't3',\n",
       " 't4',\n",
       " 't5',\n",
       " 't6',\n",
       " 't7',\n",
       " 't8',\n",
       " 'data_hora',\n",
       " 'temp',\n",
       " 'anormal']"
      ]
     },
     "execution_count": 248,
     "metadata": {},
     "output_type": "execute_result"
    }
   ],
   "source": [
    "# listando a relação de colunas\n",
    "list(df_milk.columns)"
   ]
  },
  {
   "cell_type": "code",
   "execution_count": 249,
   "metadata": {},
   "outputs": [
    {
     "data": {
      "image/png": "[encoded data removed]",
      "text/plain": [
       "<Figure size 1200x1200 with 2 Axes>"
      ]
     },
     "metadata": {},
     "output_type": "display_data"
    }
   ],
   "source": [
    "# analisando a correlação entre as variáveis\n",
    "lista_corr = list([ 'umidade',\n",
    "                    't_ex',\n",
    "                    't1',\n",
    "                    't2',\n",
    "                    't3',\n",
    "                    't4',\n",
    "                    't5',\n",
    "                    't6',\n",
    "                    't7',\n",
    "                    't8',\n",
    "                    'temp',\n",
    "                    'anormal'])\n",
    "\n",
    "fig, axs = pyplot.subplots(nrows=1, ncols=1, figsize=(12,12))\n",
    "\n",
    "correlation = df_milk[lista_corr].corr()\n",
    "sns.heatmap(correlation, vmax=1, square=True, annot=True, cmap='cubehelix', ax=axs)\n",
    "\n",
    "axs.set_title('Correlação das Variáveis - variável target (devedor)')\n",
    "fig.tight_layout()\n",
    "\n",
    "pyplot.show()"
   ]
  },
  {
   "cell_type": "code",
   "execution_count": null,
   "metadata": {},
   "outputs": [],
   "source": []
  },
  {
   "cell_type": "code",
   "execution_count": null,
   "metadata": {},
   "outputs": [],
   "source": []
  },
  {
   "cell_type": "code",
   "execution_count": null,
   "metadata": {},
   "outputs": [],
   "source": []
  },
  {
   "cell_type": "code",
   "execution_count": null,
   "metadata": {},
   "outputs": [],
   "source": []
  },
  {
   "cell_type": "code",
   "execution_count": null,
   "metadata": {},
   "outputs": [],
   "source": []
  },
  {
   "cell_type": "code",
   "execution_count": null,
   "metadata": {},
   "outputs": [
    {
     "data": {
      "text/plain": [
       "['atende_criterios',\n",
       " 'vr_parcelas',\n",
       " 'pont_mutuario',\n",
       " 'dias_credito',\n",
       " 'saldo_rotativo',\n",
       " 'tx_util_credito',\n",
       " 'consult_mutuario_cred',\n",
       " 'nro_atraso',\n",
       " 'nro_reg_deprec',\n",
       " 'tx_juros',\n",
       " 'log_renda_anual',\n",
       " 'idx_div_renda']"
      ]
     },
     "execution_count": 62,
     "metadata": {},
     "output_type": "execute_result"
    }
   ],
   "source": [
    "# criando uma lista sem a variável devedor (target) para fazer a correlação\n",
    "lista_corr[1:]"
   ]
  },
  {
   "cell_type": "code",
   "execution_count": null,
   "metadata": {},
   "outputs": [
    {
     "name": "stdout",
     "output_type": "stream",
     "text": [
      "['dias_credito', 'nro_atraso']\n"
     ]
    }
   ],
   "source": [
    "# criando uma lista das colunas com menos de 0.03 (3%) de correlação\n",
    "correlation = df_milk[lista_corr[:]].corr()\n",
    "correlation_devedor = abs(correlation['devedor'])\n",
    "drop_list_corr = sorted(list(correlation_devedor[correlation_devedor < 0.0300].index))\n",
    "print(drop_list_corr)"
   ]
  },
  {
   "cell_type": "markdown",
   "metadata": {},
   "source": [
    "- As colunas com corelação menor que 3% com a variável alvo serão eliminadas por apresentarem um percentual muito baixo podendo prejudicar nosso trabalho."
   ]
  },
  {
   "cell_type": "code",
   "execution_count": null,
   "metadata": {},
   "outputs": [
    {
     "name": "stdout",
     "output_type": "stream",
     "text": [
      "<class 'pandas.core.frame.DataFrame'>\n",
      "RangeIndex: 9578 entries, 0 to 9577\n",
      "Data columns (total 14 columns):\n",
      " #   Column                 Non-Null Count  Dtype  \n",
      "---  ------                 --------------  -----  \n",
      " 0   atende_criterios       9578 non-null   int64  \n",
      " 1   utilizacao             9578 non-null   object \n",
      " 2   tx_juros               9578 non-null   float64\n",
      " 3   vr_parcelas            9578 non-null   float64\n",
      " 4   log_renda_anual        9578 non-null   float64\n",
      " 5   idx_div_renda          9578 non-null   float64\n",
      " 6   pont_mutuario          9578 non-null   int64  \n",
      " 7   dias_credito           9578 non-null   float64\n",
      " 8   saldo_rotativo         9578 non-null   int64  \n",
      " 9   tx_util_credito        9578 non-null   float64\n",
      " 10  consult_mutuario_cred  9578 non-null   int64  \n",
      " 11  nro_atraso             9578 non-null   int64  \n",
      " 12  nro_reg_deprec         9578 non-null   int64  \n",
      " 13  devedor                9578 non-null   int64  \n",
      "dtypes: float64(6), int64(7), object(1)\n",
      "memory usage: 1.0+ MB\n"
     ]
    }
   ],
   "source": [
    "# verificando as colunas do dataframe antes da exclusão\n",
    "df_milk.info()"
   ]
  },
  {
   "cell_type": "code",
   "execution_count": null,
   "metadata": {},
   "outputs": [],
   "source": [
    "# apagando colunas com correlação menor que 3%\n",
    "df_milk.drop(labels=drop_list_corr, axis=1, inplace=True) "
   ]
  },
  {
   "cell_type": "code",
   "execution_count": null,
   "metadata": {},
   "outputs": [
    {
     "name": "stdout",
     "output_type": "stream",
     "text": [
      "<class 'pandas.core.frame.DataFrame'>\n",
      "RangeIndex: 9578 entries, 0 to 9577\n",
      "Data columns (total 12 columns):\n",
      " #   Column                 Non-Null Count  Dtype  \n",
      "---  ------                 --------------  -----  \n",
      " 0   atende_criterios       9578 non-null   int64  \n",
      " 1   utilizacao             9578 non-null   object \n",
      " 2   tx_juros               9578 non-null   float64\n",
      " 3   vr_parcelas            9578 non-null   float64\n",
      " 4   log_renda_anual        9578 non-null   float64\n",
      " 5   idx_div_renda          9578 non-null   float64\n",
      " 6   pont_mutuario          9578 non-null   int64  \n",
      " 7   saldo_rotativo         9578 non-null   int64  \n",
      " 8   tx_util_credito        9578 non-null   float64\n",
      " 9   consult_mutuario_cred  9578 non-null   int64  \n",
      " 10  nro_reg_deprec         9578 non-null   int64  \n",
      " 11  devedor                9578 non-null   int64  \n",
      "dtypes: float64(5), int64(6), object(1)\n",
      "memory usage: 898.1+ KB\n"
     ]
    }
   ],
   "source": [
    "# verificando as colunas que sobraram\n",
    "df_milk.info()"
   ]
  },
  {
   "cell_type": "markdown",
   "metadata": {},
   "source": [
    "- Foram excluidas 2 colunas com percentual de correlaçaõ abaixo de 3% nos sobrando 12 colunas para trabalharmos"
   ]
  },
  {
   "cell_type": "code",
   "execution_count": null,
   "metadata": {},
   "outputs": [],
   "source": [
    "# reduzindo as casas decimais para facilitar o agrupamento dos valores com menor ocorrência\n",
    "df_milk['tx_juros'] = round(df_milk['tx_juros'], 2)\n",
    "df_milk['vr_parcelas'] = round(df_milk['vr_parcelas'], 0)\n",
    "df_milk['log_renda_anual'] = round(df_milk['log_renda_anual'], 0)\n",
    "df_milk['idx_div_renda'] = round(df_milk['idx_div_renda'], 0)"
   ]
  },
  {
   "cell_type": "code",
   "execution_count": null,
   "metadata": {},
   "outputs": [
    {
     "name": "stdout",
     "output_type": "stream",
     "text": [
      "atende_criterios\n",
      "1    80.496972\n",
      "0    19.503028\n",
      "Name: proportion, dtype: float64\n",
      "\n",
      "utilizacao\n",
      "debt_consolidation    41.313427\n",
      "all_other             24.337022\n",
      "credit_card           13.176028\n",
      "home_improvement       6.567133\n",
      "small_business         6.462727\n",
      "major_purchase         4.562539\n",
      "educational            3.581123\n",
      "Name: proportion, dtype: float64\n",
      "\n",
      "tx_juros\n",
      "0.13    16.892880\n",
      "0.12    13.468365\n",
      "0.11    12.330340\n",
      "0.14    12.257256\n",
      "0.09     9.135519\n",
      "0.15     8.540405\n",
      "0.10     7.151806\n",
      "0.08     7.068281\n",
      "0.16     5.345584\n",
      "0.17     2.463980\n",
      "0.07     2.150762\n",
      "0.18     1.639173\n",
      "0.19     0.897891\n",
      "0.20     0.313218\n",
      "0.21     0.198371\n",
      "0.06     0.125287\n",
      "0.22     0.020881\n",
      "Name: proportion, dtype: float64\n",
      "\n",
      "vr_parcelas\n",
      "156.0    0.636876\n",
      "170.0    0.626436\n",
      "164.0    0.605554\n",
      "166.0    0.553351\n",
      "160.0    0.542911\n",
      "318.0    0.532470\n",
      "168.0    0.511589\n",
      "316.0    0.490708\n",
      "333.0    0.480267\n",
      "172.0    0.480267\n",
      "336.0    0.459386\n",
      "328.0    0.428064\n",
      "202.0    0.417624\n",
      "167.0    0.417624\n",
      "96.0     0.417624\n",
      "269.0    0.407183\n",
      "100.0    0.407183\n",
      "99.0     0.396743\n",
      "94.0     0.396743\n",
      "319.0    0.396743\n",
      "Name: proportion, dtype: float64\n",
      "\n",
      "log_renda_anual\n",
      "11.0    61.641261\n",
      "10.0    21.058676\n",
      "12.0    14.940489\n",
      "9.0      1.252871\n",
      "13.0     0.877010\n",
      "8.0      0.135728\n",
      "14.0     0.083525\n",
      "15.0     0.010441\n",
      "Name: proportion, dtype: float64\n",
      "\n",
      "idx_div_renda\n",
      "14.0    5.105450\n",
      "15.0    5.074128\n",
      "10.0    4.938401\n",
      "9.0     4.781792\n",
      "11.0    4.677386\n",
      "16.0    4.646064\n",
      "12.0    4.583420\n",
      "13.0    4.489455\n",
      "18.0    4.343287\n",
      "17.0    4.259762\n",
      "8.0     4.082272\n",
      "7.0     4.061391\n",
      "19.0    3.852579\n",
      "20.0    3.779495\n",
      "6.0     3.716851\n",
      "22.0    3.654208\n",
      "5.0     3.414074\n",
      "4.0     3.330549\n",
      "21.0    3.309668\n",
      "3.0     3.121737\n",
      "1.0     3.069534\n",
      "2.0     2.965128\n",
      "23.0    2.798079\n",
      "0.0     2.537064\n",
      "24.0    2.526624\n",
      "25.0    1.534767\n",
      "26.0    0.407183\n",
      "27.0    0.344540\n",
      "28.0    0.281896\n",
      "29.0    0.229693\n",
      "30.0    0.083525\n",
      "Name: proportion, dtype: float64\n",
      "\n",
      "pont_mutuario\n",
      "687    5.721445\n",
      "682    5.596158\n",
      "692    5.199415\n",
      "697    4.969722\n",
      "702    4.927960\n",
      "707    4.635623\n",
      "667    4.572980\n",
      "677    4.458133\n",
      "717    4.426811\n",
      "662    4.322406\n",
      "712    4.124034\n",
      "672    4.124034\n",
      "722    4.050950\n",
      "727    3.769054\n",
      "732    3.445396\n",
      "742    3.382752\n",
      "737    3.267906\n",
      "752    2.693673\n",
      "747    2.463980\n",
      "757    2.411777\n",
      "762    2.296930\n",
      "772    1.649614\n",
      "767    1.482564\n",
      "777    1.461683\n",
      "652    1.367718\n",
      "657    1.325955\n",
      "782    1.231990\n",
      "647    1.169346\n",
      "642    1.064940\n",
      "792    1.012738\n",
      "787    0.887450\n",
      "797    0.793485\n",
      "802    0.574233\n",
      "807    0.469827\n",
      "812    0.344540\n",
      "632    0.062644\n",
      "817    0.062644\n",
      "822    0.052203\n",
      "637    0.052203\n",
      "627    0.020881\n",
      "612    0.020881\n",
      "827    0.010441\n",
      "617    0.010441\n",
      "622    0.010441\n",
      "Name: proportion, dtype: float64\n",
      "\n",
      "saldo_rotativo\n",
      "0        3.351430\n",
      "298      0.104406\n",
      "255      0.104406\n",
      "682      0.093965\n",
      "346      0.083525\n",
      "2229     0.062644\n",
      "182      0.062644\n",
      "1085     0.062644\n",
      "8035     0.052203\n",
      "1        0.052203\n",
      "6        0.052203\n",
      "6907     0.041762\n",
      "5        0.041762\n",
      "1498     0.041762\n",
      "11023    0.041762\n",
      "39       0.041762\n",
      "179      0.041762\n",
      "256      0.041762\n",
      "9        0.041762\n",
      "2796     0.041762\n",
      "Name: proportion, dtype: float64\n",
      "\n",
      "tx_util_credito\n",
      "0.0     3.100856\n",
      "0.5     0.271455\n",
      "47.8    0.229693\n",
      "0.3     0.229693\n",
      "73.7    0.229693\n",
      "3.3     0.219252\n",
      "0.1     0.219252\n",
      "0.7     0.208812\n",
      "1.0     0.208812\n",
      "0.2     0.208812\n",
      "66.6    0.208812\n",
      "52.7    0.198371\n",
      "38.3    0.198371\n",
      "63.0    0.198371\n",
      "8.7     0.198371\n",
      "78.7    0.187931\n",
      "30.7    0.187931\n",
      "27.7    0.187931\n",
      "32.4    0.187931\n",
      "57.7    0.187931\n",
      "Name: proportion, dtype: float64\n",
      "\n",
      "consult_mutuario_cred\n",
      "0     37.972437\n",
      "1     25.704740\n",
      "2     14.449781\n",
      "3      9.020672\n",
      "4      4.959282\n",
      "5      2.902485\n",
      "6      1.722698\n",
      "7      1.044059\n",
      "8      0.751723\n",
      "9      0.490708\n",
      "10     0.240134\n",
      "11     0.156609\n",
      "12     0.156609\n",
      "15     0.093965\n",
      "13     0.062644\n",
      "14     0.062644\n",
      "18     0.041762\n",
      "16     0.031322\n",
      "19     0.020881\n",
      "24     0.020881\n",
      "17     0.020881\n",
      "33     0.010441\n",
      "20     0.010441\n",
      "27     0.010441\n",
      "25     0.010441\n",
      "28     0.010441\n",
      "31     0.010441\n",
      "32     0.010441\n",
      "Name: proportion, dtype: float64\n",
      "\n",
      "nro_reg_deprec\n",
      "0    94.163708\n",
      "1     5.564836\n",
      "2     0.198371\n",
      "3     0.052203\n",
      "4     0.010441\n",
      "5     0.010441\n",
      "Name: proportion, dtype: float64\n",
      "\n",
      "devedor\n",
      "0    83.994571\n",
      "1    16.005429\n",
      "Name: proportion, dtype: float64\n"
     ]
    }
   ],
   "source": [
    "# analizando o percentual de ocorrência de cada valor para ver quais valores muito pequenos precisam ser juntados\n",
    "# com outros maiores\n",
    "print(df_milk.atende_criterios.value_counts(normalize=True)*100)\n",
    "print('')\n",
    "print(df_milk.utilizacao.value_counts(normalize=True)*100)\n",
    "print('')\n",
    "print(df_milk.tx_juros.value_counts(normalize=True)*100)\n",
    "print('')\n",
    "print(df_milk.vr_parcelas.value_counts(normalize=True).head(20)*100)\n",
    "print('')\n",
    "print(df_milk.log_renda_anual.value_counts(normalize=True)*100)\n",
    "print('')\n",
    "print(df_milk.idx_div_renda.value_counts(normalize=True)*100)\n",
    "print('')\n",
    "print(df_milk.pont_mutuario.value_counts(normalize=True)*100)\n",
    "print('')\n",
    "print(df_milk.saldo_rotativo.value_counts(normalize=True).head(20)*100)\n",
    "print('')\n",
    "print(df_milk.tx_util_credito.value_counts(normalize=True).head(20)*100)\n",
    "print('')\n",
    "print(df_milk.consult_mutuario_cred.value_counts(normalize=True)*100)\n",
    "print('')\n",
    "print(df_milk.nro_reg_deprec.value_counts(normalize=True)*100)\n",
    "print('')\n",
    "print(df_milk.devedor.value_counts(normalize=True)*100)"
   ]
  },
  {
   "cell_type": "code",
   "execution_count": null,
   "metadata": {},
   "outputs": [
    {
     "data": {
      "text/html": [
       "<div>\n",
       "<style scoped>\n",
       "    .dataframe tbody tr th:only-of-type {\n",
       "        vertical-align: middle;\n",
       "    }\n",
       "\n",
       "    .dataframe tbody tr th {\n",
       "        vertical-align: top;\n",
       "    }\n",
       "\n",
       "    .dataframe thead th {\n",
       "        text-align: right;\n",
       "    }\n",
       "</style>\n",
       "<table border=\"1\" class=\"dataframe\">\n",
       "  <thead>\n",
       "    <tr style=\"text-align: right;\">\n",
       "      <th></th>\n",
       "      <th>atende_criterios</th>\n",
       "      <th>utilizacao</th>\n",
       "      <th>tx_juros</th>\n",
       "      <th>vr_parcelas</th>\n",
       "      <th>log_renda_anual</th>\n",
       "      <th>idx_div_renda</th>\n",
       "      <th>pont_mutuario</th>\n",
       "      <th>saldo_rotativo</th>\n",
       "      <th>tx_util_credito</th>\n",
       "      <th>consult_mutuario_cred</th>\n",
       "      <th>nro_reg_deprec</th>\n",
       "      <th>devedor</th>\n",
       "    </tr>\n",
       "  </thead>\n",
       "  <tbody>\n",
       "    <tr>\n",
       "      <th>0</th>\n",
       "      <td>1</td>\n",
       "      <td>debt_consolidation</td>\n",
       "      <td>0.12</td>\n",
       "      <td>829.0</td>\n",
       "      <td>11.0</td>\n",
       "      <td>19.0</td>\n",
       "      <td>737</td>\n",
       "      <td>28854</td>\n",
       "      <td>52.1</td>\n",
       "      <td>0</td>\n",
       "      <td>0</td>\n",
       "      <td>0</td>\n",
       "    </tr>\n",
       "    <tr>\n",
       "      <th>1</th>\n",
       "      <td>1</td>\n",
       "      <td>credit_card</td>\n",
       "      <td>0.11</td>\n",
       "      <td>228.0</td>\n",
       "      <td>11.0</td>\n",
       "      <td>14.0</td>\n",
       "      <td>707</td>\n",
       "      <td>33623</td>\n",
       "      <td>76.7</td>\n",
       "      <td>0</td>\n",
       "      <td>0</td>\n",
       "      <td>0</td>\n",
       "    </tr>\n",
       "    <tr>\n",
       "      <th>2</th>\n",
       "      <td>1</td>\n",
       "      <td>debt_consolidation</td>\n",
       "      <td>0.14</td>\n",
       "      <td>367.0</td>\n",
       "      <td>10.0</td>\n",
       "      <td>12.0</td>\n",
       "      <td>682</td>\n",
       "      <td>3511</td>\n",
       "      <td>25.6</td>\n",
       "      <td>1</td>\n",
       "      <td>0</td>\n",
       "      <td>0</td>\n",
       "    </tr>\n",
       "  </tbody>\n",
       "</table>\n",
       "</div>"
      ],
      "text/plain": [
       "   atende_criterios          utilizacao  tx_juros  vr_parcelas  \\\n",
       "0                 1  debt_consolidation      0.12        829.0   \n",
       "1                 1         credit_card      0.11        228.0   \n",
       "2                 1  debt_consolidation      0.14        367.0   \n",
       "\n",
       "   log_renda_anual  idx_div_renda  pont_mutuario  saldo_rotativo  \\\n",
       "0             11.0           19.0            737           28854   \n",
       "1             11.0           14.0            707           33623   \n",
       "2             10.0           12.0            682            3511   \n",
       "\n",
       "   tx_util_credito  consult_mutuario_cred  nro_reg_deprec  devedor  \n",
       "0             52.1                      0               0        0  \n",
       "1             76.7                      0               0        0  \n",
       "2             25.6                      1               0        0  "
      ]
     },
     "execution_count": 69,
     "metadata": {},
     "output_type": "execute_result"
    }
   ],
   "source": [
    "# verificando os primeiro registros do df\n",
    "df_milk.head(3)"
   ]
  },
  {
   "cell_type": "code",
   "execution_count": null,
   "metadata": {},
   "outputs": [],
   "source": [
    "# agrupando os valores com ocorrência menor que 3% com o próximo valor acima\n",
    "df_milk.tx_juros[df_milk['tx_juros'].isin([0.17, 0.19, 0.20, 0.21, 0.22])] = 0.18\n",
    "df_milk.tx_juros[df_milk['tx_juros'].isin([0.06, 0.07])] = 0.08\n",
    "\n",
    "df_milk.log_renda_anual[df_milk['log_renda_anual'].isin([13, 14, 15])] = 12\n",
    "df_milk.log_renda_anual[df_milk['log_renda_anual'].isin([8, 9])] = 10\n",
    "\n",
    "df_milk.idx_div_renda[df_milk['idx_div_renda'] > 23] = 23\n",
    "df_milk.idx_div_renda[df_milk['idx_div_renda'].isin([0, 2])] = 1\n",
    "\n",
    "df_milk.pont_mutuario[df_milk['pont_mutuario'].isin([747])] = 752\n",
    "df_milk.pont_mutuario[df_milk['pont_mutuario'].isin([762])] = 757\n",
    "df_milk.pont_mutuario[df_milk['pont_mutuario'].isin([767,777,652,657,782])] = 772 \n",
    "df_milk.pont_mutuario[df_milk['pont_mutuario'].isin([642,792,787,797])] = 647                                                               \n",
    "\n",
    "df_milk.pont_mutuario[df_milk['pont_mutuario'].isin([807,812,632,817,822,637,627,612,827,617,622,737])] = 802\n",
    "\n",
    "df_milk.consult_mutuario_cred[df_milk['consult_mutuario_cred'] > 5] = 5\n",
    "\n",
    "df_milk.nro_reg_deprec[df_milk['nro_reg_deprec'] > 1] = 1"
   ]
  },
  {
   "cell_type": "code",
   "execution_count": null,
   "metadata": {},
   "outputs": [
    {
     "name": "stdout",
     "output_type": "stream",
     "text": [
      "tx_juros\n",
      "0.13    16.892880\n",
      "0.12    13.468365\n",
      "0.11    12.330340\n",
      "0.14    12.257256\n",
      "0.08     9.344331\n",
      "0.09     9.135519\n",
      "0.15     8.540405\n",
      "0.10     7.151806\n",
      "0.18     5.533514\n",
      "0.16     5.345584\n",
      "Name: proportion, dtype: float64\n",
      "\n",
      "log_renda_anual\n",
      "11.0    61.641261\n",
      "10.0    22.447275\n",
      "12.0    15.911464\n",
      "Name: proportion, dtype: float64\n",
      "\n",
      "idx_div_renda\n",
      "1.0     8.571727\n",
      "23.0    8.206306\n",
      "14.0    5.105450\n",
      "15.0    5.074128\n",
      "10.0    4.938401\n",
      "9.0     4.781792\n",
      "11.0    4.677386\n",
      "16.0    4.646064\n",
      "12.0    4.583420\n",
      "13.0    4.489455\n",
      "18.0    4.343287\n",
      "17.0    4.259762\n",
      "8.0     4.082272\n",
      "7.0     4.061391\n",
      "19.0    3.852579\n",
      "20.0    3.779495\n",
      "6.0     3.716851\n",
      "22.0    3.654208\n",
      "5.0     3.414074\n",
      "4.0     3.330549\n",
      "21.0    3.309668\n",
      "3.0     3.121737\n",
      "Name: proportion, dtype: float64\n",
      "\n",
      "pont_mutuario\n",
      "772    8.519524\n",
      "687    5.721445\n",
      "682    5.596158\n",
      "692    5.199415\n",
      "752    5.157653\n",
      "697    4.969722\n",
      "802    4.959282\n",
      "702    4.927960\n",
      "647    4.927960\n",
      "757    4.708707\n",
      "707    4.635623\n",
      "667    4.572980\n",
      "677    4.458133\n",
      "717    4.426811\n",
      "662    4.322406\n",
      "672    4.124034\n",
      "712    4.124034\n",
      "722    4.050950\n",
      "727    3.769054\n",
      "732    3.445396\n",
      "742    3.382752\n",
      "Name: proportion, dtype: float64\n",
      "\n",
      "consult_mutuario_cred\n",
      "0    37.972437\n",
      "1    25.704740\n",
      "2    14.449781\n",
      "3     9.020672\n",
      "5     7.893088\n",
      "4     4.959282\n",
      "Name: proportion, dtype: float64\n",
      "\n",
      "nro_reg_deprec\n",
      "0    94.163708\n",
      "1     5.836292\n",
      "Name: proportion, dtype: float64\n"
     ]
    }
   ],
   "source": [
    "# analizando o percentual de ocorrência de cada valor para ver como ficou ajuntando com valores maiores\n",
    "print(df_milk.tx_juros.value_counts(normalize=True)*100)\n",
    "print('')\n",
    "print(df_milk.log_renda_anual.value_counts(normalize=True)*100)\n",
    "print('')\n",
    "print(df_milk.idx_div_renda.value_counts(normalize=True)*100)\n",
    "print('')\n",
    "print(df_milk.pont_mutuario.value_counts(normalize=True)*100)\n",
    "print('')\n",
    "print(df_milk.consult_mutuario_cred.value_counts(normalize=True)*100)\n",
    "print('')\n",
    "print(df_milk.nro_reg_deprec.value_counts(normalize=True)*100)"
   ]
  },
  {
   "cell_type": "code",
   "execution_count": null,
   "metadata": {},
   "outputs": [
    {
     "data": {
      "text/html": [
       "<div>\n",
       "<style scoped>\n",
       "    .dataframe tbody tr th:only-of-type {\n",
       "        vertical-align: middle;\n",
       "    }\n",
       "\n",
       "    .dataframe tbody tr th {\n",
       "        vertical-align: top;\n",
       "    }\n",
       "\n",
       "    .dataframe thead th {\n",
       "        text-align: right;\n",
       "    }\n",
       "</style>\n",
       "<table border=\"1\" class=\"dataframe\">\n",
       "  <thead>\n",
       "    <tr style=\"text-align: right;\">\n",
       "      <th></th>\n",
       "      <th>atende_criterios</th>\n",
       "      <th>tx_juros</th>\n",
       "      <th>vr_parcelas</th>\n",
       "      <th>log_renda_anual</th>\n",
       "      <th>idx_div_renda</th>\n",
       "      <th>pont_mutuario</th>\n",
       "      <th>saldo_rotativo</th>\n",
       "      <th>tx_util_credito</th>\n",
       "      <th>consult_mutuario_cred</th>\n",
       "      <th>nro_reg_deprec</th>\n",
       "      <th>devedor</th>\n",
       "    </tr>\n",
       "  </thead>\n",
       "  <tbody>\n",
       "    <tr>\n",
       "      <th>count</th>\n",
       "      <td>9578.000000</td>\n",
       "      <td>9578.000000</td>\n",
       "      <td>9578.000000</td>\n",
       "      <td>9578.000000</td>\n",
       "      <td>9578.000000</td>\n",
       "      <td>9578.000000</td>\n",
       "      <td>9.578000e+03</td>\n",
       "      <td>9578.000000</td>\n",
       "      <td>9578.000000</td>\n",
       "      <td>9578.000000</td>\n",
       "      <td>9578.000000</td>\n",
       "    </tr>\n",
       "    <tr>\n",
       "      <th>mean</th>\n",
       "      <td>0.804970</td>\n",
       "      <td>0.123019</td>\n",
       "      <td>319.093861</td>\n",
       "      <td>10.934642</td>\n",
       "      <td>12.489037</td>\n",
       "      <td>712.401441</td>\n",
       "      <td>1.691396e+04</td>\n",
       "      <td>46.799236</td>\n",
       "      <td>1.409689</td>\n",
       "      <td>0.058363</td>\n",
       "      <td>0.160054</td>\n",
       "    </tr>\n",
       "    <tr>\n",
       "      <th>std</th>\n",
       "      <td>0.396245</td>\n",
       "      <td>0.026290</td>\n",
       "      <td>207.064886</td>\n",
       "      <td>0.615918</td>\n",
       "      <td>6.693325</td>\n",
       "      <td>39.972557</td>\n",
       "      <td>3.375619e+04</td>\n",
       "      <td>29.014417</td>\n",
       "      <td>1.557783</td>\n",
       "      <td>0.234441</td>\n",
       "      <td>0.366676</td>\n",
       "    </tr>\n",
       "    <tr>\n",
       "      <th>min</th>\n",
       "      <td>0.000000</td>\n",
       "      <td>0.080000</td>\n",
       "      <td>16.000000</td>\n",
       "      <td>10.000000</td>\n",
       "      <td>1.000000</td>\n",
       "      <td>647.000000</td>\n",
       "      <td>0.000000e+00</td>\n",
       "      <td>0.000000</td>\n",
       "      <td>0.000000</td>\n",
       "      <td>0.000000</td>\n",
       "      <td>0.000000</td>\n",
       "    </tr>\n",
       "    <tr>\n",
       "      <th>25%</th>\n",
       "      <td>1.000000</td>\n",
       "      <td>0.100000</td>\n",
       "      <td>164.000000</td>\n",
       "      <td>11.000000</td>\n",
       "      <td>7.000000</td>\n",
       "      <td>682.000000</td>\n",
       "      <td>3.187000e+03</td>\n",
       "      <td>22.600000</td>\n",
       "      <td>0.000000</td>\n",
       "      <td>0.000000</td>\n",
       "      <td>0.000000</td>\n",
       "    </tr>\n",
       "    <tr>\n",
       "      <th>50%</th>\n",
       "      <td>1.000000</td>\n",
       "      <td>0.120000</td>\n",
       "      <td>269.000000</td>\n",
       "      <td>11.000000</td>\n",
       "      <td>13.000000</td>\n",
       "      <td>707.000000</td>\n",
       "      <td>8.596000e+03</td>\n",
       "      <td>46.300000</td>\n",
       "      <td>1.000000</td>\n",
       "      <td>0.000000</td>\n",
       "      <td>0.000000</td>\n",
       "    </tr>\n",
       "    <tr>\n",
       "      <th>75%</th>\n",
       "      <td>1.000000</td>\n",
       "      <td>0.140000</td>\n",
       "      <td>432.750000</td>\n",
       "      <td>11.000000</td>\n",
       "      <td>18.000000</td>\n",
       "      <td>742.000000</td>\n",
       "      <td>1.824950e+04</td>\n",
       "      <td>70.900000</td>\n",
       "      <td>2.000000</td>\n",
       "      <td>0.000000</td>\n",
       "      <td>0.000000</td>\n",
       "    </tr>\n",
       "    <tr>\n",
       "      <th>max</th>\n",
       "      <td>1.000000</td>\n",
       "      <td>0.180000</td>\n",
       "      <td>940.000000</td>\n",
       "      <td>12.000000</td>\n",
       "      <td>23.000000</td>\n",
       "      <td>802.000000</td>\n",
       "      <td>1.207359e+06</td>\n",
       "      <td>119.000000</td>\n",
       "      <td>5.000000</td>\n",
       "      <td>1.000000</td>\n",
       "      <td>1.000000</td>\n",
       "    </tr>\n",
       "  </tbody>\n",
       "</table>\n",
       "</div>"
      ],
      "text/plain": [
       "       atende_criterios     tx_juros  vr_parcelas  log_renda_anual  \\\n",
       "count       9578.000000  9578.000000  9578.000000      9578.000000   \n",
       "mean           0.804970     0.123019   319.093861        10.934642   \n",
       "std            0.396245     0.026290   207.064886         0.615918   \n",
       "min            0.000000     0.080000    16.000000        10.000000   \n",
       "25%            1.000000     0.100000   164.000000        11.000000   \n",
       "50%            1.000000     0.120000   269.000000        11.000000   \n",
       "75%            1.000000     0.140000   432.750000        11.000000   \n",
       "max            1.000000     0.180000   940.000000        12.000000   \n",
       "\n",
       "       idx_div_renda  pont_mutuario  saldo_rotativo  tx_util_credito  \\\n",
       "count    9578.000000    9578.000000    9.578000e+03      9578.000000   \n",
       "mean       12.489037     712.401441    1.691396e+04        46.799236   \n",
       "std         6.693325      39.972557    3.375619e+04        29.014417   \n",
       "min         1.000000     647.000000    0.000000e+00         0.000000   \n",
       "25%         7.000000     682.000000    3.187000e+03        22.600000   \n",
       "50%        13.000000     707.000000    8.596000e+03        46.300000   \n",
       "75%        18.000000     742.000000    1.824950e+04        70.900000   \n",
       "max        23.000000     802.000000    1.207359e+06       119.000000   \n",
       "\n",
       "       consult_mutuario_cred  nro_reg_deprec      devedor  \n",
       "count            9578.000000     9578.000000  9578.000000  \n",
       "mean                1.409689        0.058363     0.160054  \n",
       "std                 1.557783        0.234441     0.366676  \n",
       "min                 0.000000        0.000000     0.000000  \n",
       "25%                 0.000000        0.000000     0.000000  \n",
       "50%                 1.000000        0.000000     0.000000  \n",
       "75%                 2.000000        0.000000     0.000000  \n",
       "max                 5.000000        1.000000     1.000000  "
      ]
     },
     "execution_count": 72,
     "metadata": {},
     "output_type": "execute_result"
    }
   ],
   "source": [
    "# analisando as estatísticas básicas de cada variável\n",
    "df_milk[list(df_milk.columns)].describe()"
   ]
  },
  {
   "cell_type": "markdown",
   "metadata": {},
   "source": [
    "- Observamos que existem alguns valores minimos e máximos que são bastante expressivos em tamanho e outros bastante pequenos."
   ]
  },
  {
   "cell_type": "code",
   "execution_count": null,
   "metadata": {},
   "outputs": [
    {
     "name": "stdout",
     "output_type": "stream",
     "text": [
      "nulos 0\n",
      "\n",
      "   tx_juros tx_juros_faixa\n",
      "0      12.0   (10.0, 12.0]\n",
      "1      11.0   (10.0, 12.0]\n",
      "2      14.0   (14.0, 16.0]\n",
      "3      10.0    (8.0, 10.0]\n",
      "4      14.0   (14.0, 16.0]\n",
      "5       8.0     (6.0, 8.0]\n",
      "6      15.0   (14.0, 16.0]\n",
      "7      11.0   (10.0, 12.0]\n",
      "8      11.0   (10.0, 12.0]\n",
      "9      12.0   (10.0, 12.0]\n",
      "\n",
      "tx_juros_faixa\n",
      "(14.0, 16.0]    26.143245\n",
      "(10.0, 12.0]    25.798705\n",
      "(12.0, 14.0]    16.892880\n",
      "(8.0, 10.0]     16.287325\n",
      "(6.0, 8.0]       9.344331\n",
      "(16.0, 18.0]     5.533514\n",
      "(0.0, 2.0]       0.000000\n",
      "(2.0, 4.0]       0.000000\n",
      "(4.0, 6.0]       0.000000\n",
      "Name: proportion, dtype: float64 %\n"
     ]
    }
   ],
   "source": [
    "# criando faixas de valores categorizando\n",
    "df = df_milk\n",
    "df['tx_juros'] = df['tx_juros'] * 100\n",
    "faixas = np.arange(0, df['tx_juros'].max()+1, 2)\n",
    "df['tx_juros_faixa'] = pd.cut(df['tx_juros'], faixas)\n",
    "\n",
    "print('nulos', df.tx_juros_faixa.isnull().sum())\n",
    "print('')\n",
    "print(df[['tx_juros', 'tx_juros_faixa']].head(10))\n",
    "print('')\n",
    "print(df.tx_juros_faixa.value_counts(normalize=True)*100, '%')\n",
    "\n",
    "df_milk = df"
   ]
  },
  {
   "cell_type": "code",
   "execution_count": null,
   "metadata": {},
   "outputs": [
    {
     "name": "stdout",
     "output_type": "stream",
     "text": [
      "nulos 13\n",
      "\n",
      "   vr_parcelas vr_parcelas_faixa\n",
      "0        829.0    (780.0, 910.0]\n",
      "1        228.0    (130.0, 260.0]\n",
      "2        367.0    (260.0, 390.0]\n",
      "3        162.0    (130.0, 260.0]\n",
      "4        103.0      (0.0, 130.0]\n",
      "5        125.0      (0.0, 130.0]\n",
      "6        194.0    (130.0, 260.0]\n",
      "7        131.0    (130.0, 260.0]\n",
      "8         87.0      (0.0, 130.0]\n",
      "9         84.0      (0.0, 130.0]\n",
      "\n",
      "vr_parcelas_faixa\n",
      "(130.0, 260.0]    30.883429\n",
      "(260.0, 390.0]    21.871406\n",
      "(0.0, 130.0]      17.198118\n",
      "(390.0, 520.0]    13.727130\n",
      "(520.0, 650.0]     6.021955\n",
      "(650.0, 780.0]     5.729221\n",
      "(780.0, 910.0]     4.568740\n",
      "Name: proportion, dtype: float64 %\n"
     ]
    }
   ],
   "source": [
    "# criando faixas de valores categorizando\n",
    "df = df_milk\n",
    "faixas = np.arange(0, df['vr_parcelas'].max()+1, 130)\n",
    "df['vr_parcelas_faixa'] = pd.cut(df['vr_parcelas'], faixas)\n",
    "\n",
    "print('nulos', df.vr_parcelas_faixa.isnull().sum())\n",
    "print('')\n",
    "print(df[['vr_parcelas', 'vr_parcelas_faixa']].head(10))\n",
    "print('')\n",
    "print(df.vr_parcelas_faixa.value_counts(normalize=True)*100, '%')\n",
    "\n",
    "df_milk = df"
   ]
  },
  {
   "cell_type": "code",
   "execution_count": null,
   "metadata": {},
   "outputs": [
    {
     "name": "stdout",
     "output_type": "stream",
     "text": [
      "nulos 0\n",
      "\n",
      "   log_renda_anual log_renda_anual_faixa\n",
      "0             11.0          (10.0, 11.0]\n",
      "1             11.0          (10.0, 11.0]\n",
      "2             10.0           (9.0, 10.0]\n",
      "3             11.0          (10.0, 11.0]\n",
      "4             11.0          (10.0, 11.0]\n",
      "5             12.0          (11.0, 12.0]\n",
      "6             11.0          (10.0, 11.0]\n",
      "7             11.0          (10.0, 11.0]\n",
      "8             11.0          (10.0, 11.0]\n",
      "9             10.0           (9.0, 10.0]\n",
      "\n",
      "log_renda_anual_faixa\n",
      "(10.0, 11.0]    61.641261\n",
      "(9.0, 10.0]     22.447275\n",
      "(11.0, 12.0]    15.911464\n",
      "(0.0, 1.0]       0.000000\n",
      "(1.0, 2.0]       0.000000\n",
      "(2.0, 3.0]       0.000000\n",
      "(3.0, 4.0]       0.000000\n",
      "(4.0, 5.0]       0.000000\n",
      "(5.0, 6.0]       0.000000\n",
      "(6.0, 7.0]       0.000000\n",
      "(7.0, 8.0]       0.000000\n",
      "(8.0, 9.0]       0.000000\n",
      "Name: proportion, dtype: float64 %\n"
     ]
    }
   ],
   "source": [
    "# criando faixas de valores categorizando\n",
    "df = df_milk\n",
    "faixas = np.arange(0, df['log_renda_anual'].max()+1, 1)\n",
    "df['log_renda_anual_faixa'] = pd.cut(df['log_renda_anual'], faixas)\n",
    "\n",
    "print('nulos', df.log_renda_anual_faixa.isnull().sum())\n",
    "print('')\n",
    "print(df[['log_renda_anual', 'log_renda_anual_faixa']].head(10))\n",
    "print('')\n",
    "print(df.log_renda_anual_faixa.value_counts(normalize=True)*100, '%')\n",
    "\n",
    "df_milk = df"
   ]
  },
  {
   "cell_type": "code",
   "execution_count": null,
   "metadata": {},
   "outputs": [
    {
     "name": "stdout",
     "output_type": "stream",
     "text": [
      "nulos 0\n",
      "\n",
      "   idx_div_renda idx_div_renda_faixa\n",
      "0           19.0        (18.0, 19.0]\n",
      "1           14.0        (13.0, 14.0]\n",
      "2           12.0        (11.0, 12.0]\n",
      "3            8.0          (7.0, 8.0]\n",
      "4           15.0        (14.0, 15.0]\n",
      "5           17.0        (16.0, 17.0]\n",
      "6            4.0          (3.0, 4.0]\n",
      "7           11.0        (10.0, 11.0]\n",
      "8           17.0        (16.0, 17.0]\n",
      "9           10.0         (9.0, 10.0]\n",
      "\n",
      "idx_div_renda_faixa\n",
      "(0.0, 1.0]      8.571727\n",
      "(22.0, 23.0]    8.206306\n",
      "(13.0, 14.0]    5.105450\n",
      "(14.0, 15.0]    5.074128\n",
      "(9.0, 10.0]     4.938401\n",
      "(8.0, 9.0]      4.781792\n",
      "(10.0, 11.0]    4.677386\n",
      "(15.0, 16.0]    4.646064\n",
      "(11.0, 12.0]    4.583420\n",
      "(12.0, 13.0]    4.489455\n",
      "(17.0, 18.0]    4.343287\n",
      "(16.0, 17.0]    4.259762\n",
      "(7.0, 8.0]      4.082272\n",
      "(6.0, 7.0]      4.061391\n",
      "(18.0, 19.0]    3.852579\n",
      "(19.0, 20.0]    3.779495\n",
      "(5.0, 6.0]      3.716851\n",
      "(21.0, 22.0]    3.654208\n",
      "(4.0, 5.0]      3.414074\n",
      "(3.0, 4.0]      3.330549\n",
      "(20.0, 21.0]    3.309668\n",
      "(2.0, 3.0]      3.121737\n",
      "(1.0, 2.0]      0.000000\n",
      "Name: proportion, dtype: float64 %\n"
     ]
    }
   ],
   "source": [
    "# criando faixas de valores categorizando\n",
    "df = df_milk\n",
    "faixas = np.arange(0, df['idx_div_renda'].max()+1, 1)\n",
    "df['idx_div_renda_faixa'] = pd.cut(df['idx_div_renda'], faixas)\n",
    "\n",
    "print('nulos', df.idx_div_renda_faixa.isnull().sum())\n",
    "print('')\n",
    "print(df[['idx_div_renda', 'idx_div_renda_faixa']].head(10))\n",
    "print('')\n",
    "print(df.idx_div_renda_faixa.value_counts(normalize=True)*100, '%')\n",
    "\n",
    "df_milk = df"
   ]
  },
  {
   "cell_type": "code",
   "execution_count": null,
   "metadata": {},
   "outputs": [
    {
     "name": "stdout",
     "output_type": "stream",
     "text": [
      "nulos 0\n",
      "\n",
      "    pont_mutuario pont_mutuario_faixa\n",
      "0             802          (800, 802]\n",
      "1             707          (706, 708]\n",
      "2             682          (680, 682]\n",
      "3             712          (710, 712]\n",
      "4             667          (666, 668]\n",
      "5             727          (726, 728]\n",
      "6             667          (666, 668]\n",
      "7             722          (720, 722]\n",
      "8             682          (680, 682]\n",
      "9             707          (706, 708]\n",
      "10            677          (676, 678]\n",
      "11            662          (660, 662]\n",
      "12            772          (770, 772]\n",
      "13            752          (750, 752]\n",
      "14            727          (726, 728]\n",
      "15            702          (700, 702]\n",
      "16            672          (670, 672]\n",
      "17            647          (646, 648]\n",
      "18            712          (710, 712]\n",
      "19            667          (666, 668]\n",
      "20            772          (770, 772]\n",
      "21            647          (646, 648]\n",
      "22            662          (660, 662]\n",
      "23            772          (770, 772]\n",
      "24            672          (670, 672]\n",
      "\n",
      "pont_mutuario_faixa\n",
      "(770, 772]    8.519524\n",
      "(686, 688]    5.721445\n",
      "(680, 682]    5.596158\n",
      "(690, 692]    5.199415\n",
      "(750, 752]    5.157653\n",
      "(696, 698]    4.969722\n",
      "(800, 802]    4.959282\n",
      "(646, 648]    4.927960\n",
      "(700, 702]    4.927960\n",
      "(756, 758]    4.708707\n",
      "(706, 708]    4.635623\n",
      "(666, 668]    4.572980\n",
      "(676, 678]    4.458133\n",
      "(716, 718]    4.426811\n",
      "(660, 662]    4.322406\n",
      "(670, 672]    4.124034\n",
      "(710, 712]    4.124034\n",
      "(720, 722]    4.050950\n",
      "(726, 728]    3.769054\n",
      "(730, 732]    3.445396\n",
      "(740, 742]    3.382752\n",
      "(512, 514]    0.000000\n",
      "(518, 520]    0.000000\n",
      "(516, 518]    0.000000\n",
      "(514, 516]    0.000000\n",
      "Name: proportion, dtype: float64 %\n"
     ]
    }
   ],
   "source": [
    "# criando faixas de valores categorizando\n",
    "df = df_milk\n",
    "faixas = np.arange(0, df['pont_mutuario'].max()+1, 2)\n",
    "df['pont_mutuario_faixa'] = pd.cut(df['pont_mutuario'], faixas)\n",
    "\n",
    "print('nulos', df.pont_mutuario_faixa.isnull().sum())\n",
    "print('')\n",
    "print(df[['pont_mutuario', 'pont_mutuario_faixa']].head(25))\n",
    "print('')\n",
    "print(df.pont_mutuario_faixa.value_counts(normalize=True).head(25)*100, '%')\n",
    "\n",
    "df_milk = df"
   ]
  },
  {
   "cell_type": "code",
   "execution_count": null,
   "metadata": {},
   "outputs": [
    {
     "name": "stdout",
     "output_type": "stream",
     "text": [
      "log_saldo_rotativo 0    4.0\n",
      "1    5.0\n",
      "2    4.0\n",
      "Name: log_saldo_rotativo, dtype: float64\n",
      "\n",
      "nulos 328\n",
      "\n",
      "   log_saldo_rotativo log_saldo_rotativo_faixa\n",
      "0                 4.0               (3.0, 6.0]\n",
      "1                 5.0               (3.0, 6.0]\n",
      "2                 4.0               (3.0, 6.0]\n",
      "3                 5.0               (3.0, 6.0]\n",
      "4                 4.0               (3.0, 6.0]\n",
      "5                 5.0               (3.0, 6.0]\n",
      "6                 4.0               (3.0, 6.0]\n",
      "7                 4.0               (3.0, 6.0]\n",
      "8                 5.0               (3.0, 6.0]\n",
      "9                 4.0               (3.0, 6.0]\n",
      "\n",
      "log_saldo_rotativo_faixa\n",
      "(3.0, 6.0]    77.794595\n",
      "(0.0, 3.0]    22.205405\n",
      "Name: proportion, dtype: float64 %\n"
     ]
    }
   ],
   "source": [
    "# aplicando transformação logaritma no saldo rotativo \n",
    "df_milk['log_saldo_rotativo'] = df_milk['saldo_rotativo'].apply(lambda x: np.log10(x+1))\n",
    "# arredondando os valores para reduzir o nro de faixas\n",
    "df_milk['log_saldo_rotativo'] = round(df_milk['log_saldo_rotativo'], 0)\n",
    "\n",
    "print('log_saldo_rotativo', df_milk.log_saldo_rotativo.head(3))\n",
    "print('')\n",
    "\n",
    "# criando faixas de valores categorizando\n",
    "df = df_milk\n",
    "faixas = np.arange(0, df['log_saldo_rotativo'].max()+1, 3)\n",
    "df['log_saldo_rotativo_faixa'] = pd.cut(df['log_saldo_rotativo'], faixas)\n",
    "\n",
    "print('nulos', df.log_saldo_rotativo_faixa.isnull().sum())\n",
    "print('')\n",
    "print(df[['log_saldo_rotativo', 'log_saldo_rotativo_faixa']].head(10))\n",
    "print('')\n",
    "print(df.log_saldo_rotativo_faixa.value_counts(normalize=True)*100, '%')\n",
    "\n",
    "df_milk = df"
   ]
  },
  {
   "cell_type": "markdown",
   "metadata": {},
   "source": [
    "- O saldo rotativo é composto por valores muito altos o que dificultava a criação de faixas categóricas, dessa forma foi aplicado a transformação logaritma para redução dos mesmo facilitando a criação das faixas."
   ]
  },
  {
   "cell_type": "code",
   "execution_count": null,
   "metadata": {},
   "outputs": [
    {
     "name": "stdout",
     "output_type": "stream",
     "text": [
      "nulos 306\n",
      "\n",
      "   tx_util_credito tx_util_credito_faixa\n",
      "0             52.1          (45.0, 60.0]\n",
      "1             76.7          (75.0, 90.0]\n",
      "2             25.6          (15.0, 30.0]\n",
      "3             73.2          (60.0, 75.0]\n",
      "4             39.5          (30.0, 45.0]\n",
      "5             51.0          (45.0, 60.0]\n",
      "6             76.8          (75.0, 90.0]\n",
      "7             68.6          (60.0, 75.0]\n",
      "8             51.1          (45.0, 60.0]\n",
      "9             23.0          (15.0, 30.0]\n",
      "\n",
      "tx_util_credito_faixa\n",
      "(30.0, 45.0]     16.846419\n",
      "(45.0, 60.0]     16.458154\n",
      "(0.0, 15.0]      15.692407\n",
      "(60.0, 75.0]     14.764884\n",
      "(15.0, 30.0]     14.603106\n",
      "(75.0, 90.0]     13.427524\n",
      "(90.0, 105.0]     8.207506\n",
      "Name: proportion, dtype: float64 %\n"
     ]
    }
   ],
   "source": [
    "# criando faixas de valores categorizando\n",
    "df = df_milk\n",
    "faixas = np.arange(0, df['tx_util_credito'].max()+1, 15)\n",
    "df['tx_util_credito_faixa'] = pd.cut(df['tx_util_credito'], faixas)\n",
    "\n",
    "print('nulos', df.tx_util_credito_faixa.isnull().sum())\n",
    "print('')\n",
    "print(df[['tx_util_credito', 'tx_util_credito_faixa']].head(10))\n",
    "print('')\n",
    "print(df.tx_util_credito_faixa.value_counts(normalize=True)*100, '%')\n",
    "\n",
    "df_milk = df"
   ]
  },
  {
   "cell_type": "code",
   "execution_count": null,
   "metadata": {},
   "outputs": [
    {
     "data": {
      "text/html": [
       "<div>\n",
       "<style scoped>\n",
       "    .dataframe tbody tr th:only-of-type {\n",
       "        vertical-align: middle;\n",
       "    }\n",
       "\n",
       "    .dataframe tbody tr th {\n",
       "        vertical-align: top;\n",
       "    }\n",
       "\n",
       "    .dataframe thead th {\n",
       "        text-align: right;\n",
       "    }\n",
       "</style>\n",
       "<table border=\"1\" class=\"dataframe\">\n",
       "  <thead>\n",
       "    <tr style=\"text-align: right;\">\n",
       "      <th></th>\n",
       "      <th>atende_criterios</th>\n",
       "      <th>utilizacao</th>\n",
       "      <th>tx_juros</th>\n",
       "      <th>vr_parcelas</th>\n",
       "      <th>log_renda_anual</th>\n",
       "      <th>idx_div_renda</th>\n",
       "      <th>pont_mutuario</th>\n",
       "      <th>saldo_rotativo</th>\n",
       "      <th>tx_util_credito</th>\n",
       "      <th>consult_mutuario_cred</th>\n",
       "      <th>nro_reg_deprec</th>\n",
       "      <th>devedor</th>\n",
       "      <th>tx_juros_faixa</th>\n",
       "      <th>vr_parcelas_faixa</th>\n",
       "      <th>log_renda_anual_faixa</th>\n",
       "      <th>idx_div_renda_faixa</th>\n",
       "      <th>pont_mutuario_faixa</th>\n",
       "      <th>log_saldo_rotativo</th>\n",
       "      <th>log_saldo_rotativo_faixa</th>\n",
       "      <th>tx_util_credito_faixa</th>\n",
       "    </tr>\n",
       "  </thead>\n",
       "  <tbody>\n",
       "    <tr>\n",
       "      <th>0</th>\n",
       "      <td>1</td>\n",
       "      <td>debt_consolidation</td>\n",
       "      <td>12.0</td>\n",
       "      <td>829.0</td>\n",
       "      <td>11.0</td>\n",
       "      <td>19.0</td>\n",
       "      <td>802</td>\n",
       "      <td>28854</td>\n",
       "      <td>52.1</td>\n",
       "      <td>0</td>\n",
       "      <td>0</td>\n",
       "      <td>0</td>\n",
       "      <td>(10.0, 12.0]</td>\n",
       "      <td>(780.0, 910.0]</td>\n",
       "      <td>(10.0, 11.0]</td>\n",
       "      <td>(18.0, 19.0]</td>\n",
       "      <td>(800, 802]</td>\n",
       "      <td>4.0</td>\n",
       "      <td>(3.0, 6.0]</td>\n",
       "      <td>(45.0, 60.0]</td>\n",
       "    </tr>\n",
       "    <tr>\n",
       "      <th>1</th>\n",
       "      <td>1</td>\n",
       "      <td>credit_card</td>\n",
       "      <td>11.0</td>\n",
       "      <td>228.0</td>\n",
       "      <td>11.0</td>\n",
       "      <td>14.0</td>\n",
       "      <td>707</td>\n",
       "      <td>33623</td>\n",
       "      <td>76.7</td>\n",
       "      <td>0</td>\n",
       "      <td>0</td>\n",
       "      <td>0</td>\n",
       "      <td>(10.0, 12.0]</td>\n",
       "      <td>(130.0, 260.0]</td>\n",
       "      <td>(10.0, 11.0]</td>\n",
       "      <td>(13.0, 14.0]</td>\n",
       "      <td>(706, 708]</td>\n",
       "      <td>5.0</td>\n",
       "      <td>(3.0, 6.0]</td>\n",
       "      <td>(75.0, 90.0]</td>\n",
       "    </tr>\n",
       "    <tr>\n",
       "      <th>2</th>\n",
       "      <td>1</td>\n",
       "      <td>debt_consolidation</td>\n",
       "      <td>14.0</td>\n",
       "      <td>367.0</td>\n",
       "      <td>10.0</td>\n",
       "      <td>12.0</td>\n",
       "      <td>682</td>\n",
       "      <td>3511</td>\n",
       "      <td>25.6</td>\n",
       "      <td>1</td>\n",
       "      <td>0</td>\n",
       "      <td>0</td>\n",
       "      <td>(14.0, 16.0]</td>\n",
       "      <td>(260.0, 390.0]</td>\n",
       "      <td>(9.0, 10.0]</td>\n",
       "      <td>(11.0, 12.0]</td>\n",
       "      <td>(680, 682]</td>\n",
       "      <td>4.0</td>\n",
       "      <td>(3.0, 6.0]</td>\n",
       "      <td>(15.0, 30.0]</td>\n",
       "    </tr>\n",
       "  </tbody>\n",
       "</table>\n",
       "</div>"
      ],
      "text/plain": [
       "   atende_criterios          utilizacao  tx_juros  vr_parcelas  \\\n",
       "0                 1  debt_consolidation      12.0        829.0   \n",
       "1                 1         credit_card      11.0        228.0   \n",
       "2                 1  debt_consolidation      14.0        367.0   \n",
       "\n",
       "   log_renda_anual  idx_div_renda  pont_mutuario  saldo_rotativo  \\\n",
       "0             11.0           19.0            802           28854   \n",
       "1             11.0           14.0            707           33623   \n",
       "2             10.0           12.0            682            3511   \n",
       "\n",
       "   tx_util_credito  consult_mutuario_cred  nro_reg_deprec  devedor  \\\n",
       "0             52.1                      0               0        0   \n",
       "1             76.7                      0               0        0   \n",
       "2             25.6                      1               0        0   \n",
       "\n",
       "  tx_juros_faixa vr_parcelas_faixa log_renda_anual_faixa idx_div_renda_faixa  \\\n",
       "0   (10.0, 12.0]    (780.0, 910.0]          (10.0, 11.0]        (18.0, 19.0]   \n",
       "1   (10.0, 12.0]    (130.0, 260.0]          (10.0, 11.0]        (13.0, 14.0]   \n",
       "2   (14.0, 16.0]    (260.0, 390.0]           (9.0, 10.0]        (11.0, 12.0]   \n",
       "\n",
       "  pont_mutuario_faixa  log_saldo_rotativo log_saldo_rotativo_faixa  \\\n",
       "0          (800, 802]                 4.0               (3.0, 6.0]   \n",
       "1          (706, 708]                 5.0               (3.0, 6.0]   \n",
       "2          (680, 682]                 4.0               (3.0, 6.0]   \n",
       "\n",
       "  tx_util_credito_faixa  \n",
       "0          (45.0, 60.0]  \n",
       "1          (75.0, 90.0]  \n",
       "2          (15.0, 30.0]  "
      ]
     },
     "execution_count": 80,
     "metadata": {},
     "output_type": "execute_result"
    }
   ],
   "source": [
    "# verificando as variáveis de faixas categóricas incluidas\n",
    "df_milk.head(3)"
   ]
  },
  {
   "cell_type": "code",
   "execution_count": null,
   "metadata": {},
   "outputs": [
    {
     "name": "stdout",
     "output_type": "stream",
     "text": [
      "<class 'pandas.core.frame.DataFrame'>\n",
      "RangeIndex: 9578 entries, 0 to 9577\n",
      "Data columns (total 20 columns):\n",
      " #   Column                    Non-Null Count  Dtype   \n",
      "---  ------                    --------------  -----   \n",
      " 0   atende_criterios          9578 non-null   int64   \n",
      " 1   utilizacao                9578 non-null   object  \n",
      " 2   tx_juros                  9578 non-null   float64 \n",
      " 3   vr_parcelas               9578 non-null   float64 \n",
      " 4   log_renda_anual           9578 non-null   float64 \n",
      " 5   idx_div_renda             9578 non-null   float64 \n",
      " 6   pont_mutuario             9578 non-null   int64   \n",
      " 7   saldo_rotativo            9578 non-null   int64   \n",
      " 8   tx_util_credito           9578 non-null   float64 \n",
      " 9   consult_mutuario_cred     9578 non-null   int64   \n",
      " 10  nro_reg_deprec            9578 non-null   int64   \n",
      " 11  devedor                   9578 non-null   int64   \n",
      " 12  tx_juros_faixa            9578 non-null   category\n",
      " 13  vr_parcelas_faixa         9565 non-null   category\n",
      " 14  log_renda_anual_faixa     9578 non-null   category\n",
      " 15  idx_div_renda_faixa       9578 non-null   category\n",
      " 16  pont_mutuario_faixa       9578 non-null   category\n",
      " 17  log_saldo_rotativo        9578 non-null   float64 \n",
      " 18  log_saldo_rotativo_faixa  9250 non-null   category\n",
      " 19  tx_util_credito_faixa     9272 non-null   category\n",
      "dtypes: category(7), float64(6), int64(6), object(1)\n",
      "memory usage: 1.0+ MB\n"
     ]
    }
   ],
   "source": [
    "# verificando a existência de nulos\n",
    "df_milk.info()"
   ]
  },
  {
   "cell_type": "markdown",
   "metadata": {},
   "source": [
    "- Verificamos a existência de alguns nulos após a geração das faixas categóricas"
   ]
  },
  {
   "cell_type": "code",
   "execution_count": null,
   "metadata": {},
   "outputs": [
    {
     "data": {
      "text/plain": [
       "atende_criterios              0\n",
       "utilizacao                    0\n",
       "tx_juros                      0\n",
       "vr_parcelas                   0\n",
       "log_renda_anual               0\n",
       "idx_div_renda                 0\n",
       "pont_mutuario                 0\n",
       "saldo_rotativo                0\n",
       "tx_util_credito               0\n",
       "consult_mutuario_cred         0\n",
       "nro_reg_deprec                0\n",
       "devedor                       0\n",
       "tx_juros_faixa                0\n",
       "vr_parcelas_faixa            13\n",
       "log_renda_anual_faixa         0\n",
       "idx_div_renda_faixa           0\n",
       "pont_mutuario_faixa           0\n",
       "log_saldo_rotativo            0\n",
       "log_saldo_rotativo_faixa    328\n",
       "tx_util_credito_faixa       306\n",
       "dtype: int64"
      ]
     },
     "execution_count": 82,
     "metadata": {},
     "output_type": "execute_result"
    }
   ],
   "source": [
    "# confirmando os nulos existentes\n",
    "df_milk.isnull().sum()"
   ]
  },
  {
   "cell_type": "code",
   "execution_count": null,
   "metadata": {},
   "outputs": [],
   "source": [
    "# eliminando os registros com nulos\n",
    "df_milk = df_milk.dropna()"
   ]
  },
  {
   "cell_type": "code",
   "execution_count": null,
   "metadata": {},
   "outputs": [
    {
     "data": {
      "text/plain": [
       "atende_criterios            0\n",
       "utilizacao                  0\n",
       "tx_juros                    0\n",
       "vr_parcelas                 0\n",
       "log_renda_anual             0\n",
       "idx_div_renda               0\n",
       "pont_mutuario               0\n",
       "saldo_rotativo              0\n",
       "tx_util_credito             0\n",
       "consult_mutuario_cred       0\n",
       "nro_reg_deprec              0\n",
       "devedor                     0\n",
       "tx_juros_faixa              0\n",
       "vr_parcelas_faixa           0\n",
       "log_renda_anual_faixa       0\n",
       "idx_div_renda_faixa         0\n",
       "pont_mutuario_faixa         0\n",
       "log_saldo_rotativo          0\n",
       "log_saldo_rotativo_faixa    0\n",
       "tx_util_credito_faixa       0\n",
       "dtype: int64"
      ]
     },
     "execution_count": 84,
     "metadata": {},
     "output_type": "execute_result"
    }
   ],
   "source": [
    "# verificando se ainda existem nulos\n",
    "df_milk.isnull().sum()"
   ]
  },
  {
   "cell_type": "code",
   "execution_count": null,
   "metadata": {},
   "outputs": [
    {
     "data": {
      "text/plain": [
       "(9188, 20)"
      ]
     },
     "execution_count": 85,
     "metadata": {},
     "output_type": "execute_result"
    }
   ],
   "source": [
    "# verificando quantos registros restaram\n",
    "df_milk.shape"
   ]
  },
  {
   "cell_type": "code",
   "execution_count": null,
   "metadata": {},
   "outputs": [
    {
     "data": {
      "text/plain": [
       "['atende_criterios',\n",
       " 'utilizacao',\n",
       " 'tx_juros',\n",
       " 'vr_parcelas',\n",
       " 'log_renda_anual',\n",
       " 'idx_div_renda',\n",
       " 'pont_mutuario',\n",
       " 'saldo_rotativo',\n",
       " 'tx_util_credito',\n",
       " 'consult_mutuario_cred',\n",
       " 'nro_reg_deprec',\n",
       " 'devedor',\n",
       " 'tx_juros_faixa',\n",
       " 'vr_parcelas_faixa',\n",
       " 'log_renda_anual_faixa',\n",
       " 'idx_div_renda_faixa',\n",
       " 'pont_mutuario_faixa',\n",
       " 'log_saldo_rotativo',\n",
       " 'log_saldo_rotativo_faixa',\n",
       " 'tx_util_credito_faixa']"
      ]
     },
     "execution_count": 86,
     "metadata": {},
     "output_type": "execute_result"
    }
   ],
   "source": [
    "# lista as colunas do dataframe\n",
    "list(df_milk.columns)"
   ]
  },
  {
   "cell_type": "code",
   "execution_count": null,
   "metadata": {},
   "outputs": [],
   "source": [
    "# definindo lista de colunas onehot e ordinal para serem transformadas\n",
    "colunas_onehot = [ 'utilizacao' ]\n",
    "\n",
    "colunas_ordinal = [ 'tx_juros_faixa',\n",
    "                    'vr_parcelas_faixa',\n",
    "                    'log_renda_anual_faixa',\n",
    "                    'idx_div_renda_faixa',\n",
    "                    'pont_mutuario_faixa',\n",
    "                    'log_saldo_rotativo_faixa',\n",
    "                    'tx_util_credito_faixa' ]"
   ]
  },
  {
   "cell_type": "markdown",
   "metadata": {},
   "source": [
    "- A variável categorica 'utilização' terá cada categoria transformada em coluna podendo receber o valor de 0 ou 1, isso devido que, cada categoria dessa variável não tem relação com as outras categorias, dessa forma elas ficarão individualizadas e imunes de qualquer influência de outra categoria.\n",
    "\n",
    "- As demais colunas que serão transformadas em variáveis categóricas e estão na lista colunas_ordinal, vão ser compostas por faixas de valores do seu conteúdo original, sendo assim uma faixa de valor pode ser influenciada por outra faixa, dessa forma serão convertidas em nros sequenciais, ordinais, representando cada nro uma faixa."
   ]
  },
  {
   "cell_type": "code",
   "execution_count": null,
   "metadata": {},
   "outputs": [
    {
     "data": {
      "text/plain": [
       "array([[ 0.,  0.,  1., ..., 20.,  1.,  3.],\n",
       "       [ 0.,  1.,  0., ..., 10.,  1.,  5.],\n",
       "       [ 0.,  0.,  1., ...,  5.,  1.,  1.],\n",
       "       ...,\n",
       "       [ 1.,  0.,  0., ..., 13.,  0.,  0.],\n",
       "       [ 0.,  0.,  1., ...,  6.,  1.,  5.],\n",
       "       [ 0.,  0.,  1., ..., 15.,  1.,  3.]])"
      ]
     },
     "execution_count": 88,
     "metadata": {},
     "output_type": "execute_result"
    }
   ],
   "source": [
    "# definindo uma instância do columnTransformer para fazer uma verificação de transformação de variáveis\n",
    "preprocessing = ColumnTransformer(\n",
    "    [\n",
    "        (\"0-1\", OneHotEncoder(), colunas_onehot),\n",
    "        (\"ord\", OrdinalEncoder(), colunas_ordinal),\n",
    "    ]\n",
    ")\n",
    "\n",
    "preprocessing.fit_transform(df_milk)"
   ]
  },
  {
   "cell_type": "code",
   "execution_count": null,
   "metadata": {},
   "outputs": [],
   "source": [
    "# fazendo a transformação de variáveis com fit_transform e convertendo para um dataframe\n",
    "df_milk_trans = pd.DataFrame(\n",
    "    preprocessing.fit_transform(df_milk),\n",
    "    columns=preprocessing.get_feature_names_out(), \n",
    ")"
   ]
  },
  {
   "cell_type": "code",
   "execution_count": null,
   "metadata": {},
   "outputs": [],
   "source": [
    "# juntando o dataframe original dos dados categóricos com o dataframe gerado com variáveis transformadas\n",
    "df_milk_trans = pd.concat([df_milk, df_milk_trans], axis=1)"
   ]
  },
  {
   "cell_type": "code",
   "execution_count": null,
   "metadata": {},
   "outputs": [
    {
     "data": {
      "text/plain": [
       "(9561, 34)"
      ]
     },
     "execution_count": 91,
     "metadata": {},
     "output_type": "execute_result"
    }
   ],
   "source": [
    "# verificando a quantidade de registros e colunas\n",
    "df_milk_trans.shape"
   ]
  },
  {
   "cell_type": "code",
   "execution_count": null,
   "metadata": {},
   "outputs": [
    {
     "data": {
      "text/plain": [
       "atende_criterios                      373\n",
       "utilizacao                            373\n",
       "tx_juros                              373\n",
       "vr_parcelas                           373\n",
       "log_renda_anual                       373\n",
       "idx_div_renda                         373\n",
       "pont_mutuario                         373\n",
       "saldo_rotativo                        373\n",
       "tx_util_credito                       373\n",
       "consult_mutuario_cred                 373\n",
       "nro_reg_deprec                        373\n",
       "devedor                               373\n",
       "tx_juros_faixa                        373\n",
       "vr_parcelas_faixa                     373\n",
       "log_renda_anual_faixa                 373\n",
       "idx_div_renda_faixa                   373\n",
       "pont_mutuario_faixa                   373\n",
       "log_saldo_rotativo                    373\n",
       "log_saldo_rotativo_faixa              373\n",
       "tx_util_credito_faixa                 373\n",
       "0-1__utilizacao_all_other             373\n",
       "0-1__utilizacao_credit_card           373\n",
       "0-1__utilizacao_debt_consolidation    373\n",
       "0-1__utilizacao_educational           373\n",
       "0-1__utilizacao_home_improvement      373\n",
       "0-1__utilizacao_major_purchase        373\n",
       "0-1__utilizacao_small_business        373\n",
       "ord__tx_juros_faixa                   373\n",
       "ord__vr_parcelas_faixa                373\n",
       "ord__log_renda_anual_faixa            373\n",
       "ord__idx_div_renda_faixa              373\n",
       "ord__pont_mutuario_faixa              373\n",
       "ord__log_saldo_rotativo_faixa         373\n",
       "ord__tx_util_credito_faixa            373\n",
       "dtype: int64"
      ]
     },
     "execution_count": 92,
     "metadata": {},
     "output_type": "execute_result"
    }
   ],
   "source": [
    "# verificando a existência de nulos\n",
    "df_milk_trans.isnull().sum()"
   ]
  },
  {
   "cell_type": "markdown",
   "metadata": {},
   "source": [
    "- Observamos que cada variável (coluna) possui 373 ocorrências de nulos, em termos de linhas podemos ter mais de 373 ocorrências, pois 1 campo nulo somente pode ocorrer em uma linha. Essas linhas com nulos serão eliminadas."
   ]
  },
  {
   "cell_type": "code",
   "execution_count": null,
   "metadata": {},
   "outputs": [],
   "source": [
    "# apagando os registros que contem nulos\n",
    "df_milk_trans = df_milk_trans.dropna()"
   ]
  },
  {
   "cell_type": "code",
   "execution_count": null,
   "metadata": {},
   "outputs": [
    {
     "data": {
      "text/plain": [
       "(8815, 34)"
      ]
     },
     "execution_count": 94,
     "metadata": {},
     "output_type": "execute_result"
    }
   ],
   "source": [
    "# verifica quantas linhas sobraram\n",
    "df_milk_trans.shape"
   ]
  },
  {
   "cell_type": "markdown",
   "metadata": {},
   "source": [
    "- Tínhamos 9561 linhas e após eliminar os nulos sobraram 8815, apagamos 746 linhas, mas ainda temos uma quantidade de linhas viável para esse trabalho"
   ]
  },
  {
   "cell_type": "code",
   "execution_count": null,
   "metadata": {},
   "outputs": [
    {
     "data": {
      "text/html": [
       "<div>\n",
       "<style scoped>\n",
       "    .dataframe tbody tr th:only-of-type {\n",
       "        vertical-align: middle;\n",
       "    }\n",
       "\n",
       "    .dataframe tbody tr th {\n",
       "        vertical-align: top;\n",
       "    }\n",
       "\n",
       "    .dataframe thead th {\n",
       "        text-align: right;\n",
       "    }\n",
       "</style>\n",
       "<table border=\"1\" class=\"dataframe\">\n",
       "  <thead>\n",
       "    <tr style=\"text-align: right;\">\n",
       "      <th></th>\n",
       "      <th>atende_criterios</th>\n",
       "      <th>utilizacao</th>\n",
       "      <th>tx_juros</th>\n",
       "      <th>vr_parcelas</th>\n",
       "      <th>log_renda_anual</th>\n",
       "      <th>idx_div_renda</th>\n",
       "      <th>pont_mutuario</th>\n",
       "      <th>saldo_rotativo</th>\n",
       "      <th>tx_util_credito</th>\n",
       "      <th>consult_mutuario_cred</th>\n",
       "      <th>nro_reg_deprec</th>\n",
       "      <th>devedor</th>\n",
       "      <th>tx_juros_faixa</th>\n",
       "      <th>vr_parcelas_faixa</th>\n",
       "      <th>log_renda_anual_faixa</th>\n",
       "      <th>idx_div_renda_faixa</th>\n",
       "      <th>pont_mutuario_faixa</th>\n",
       "      <th>log_saldo_rotativo</th>\n",
       "      <th>log_saldo_rotativo_faixa</th>\n",
       "      <th>tx_util_credito_faixa</th>\n",
       "      <th>0-1__utilizacao_all_other</th>\n",
       "      <th>0-1__utilizacao_credit_card</th>\n",
       "      <th>0-1__utilizacao_debt_consolidation</th>\n",
       "      <th>0-1__utilizacao_educational</th>\n",
       "      <th>0-1__utilizacao_home_improvement</th>\n",
       "      <th>0-1__utilizacao_major_purchase</th>\n",
       "      <th>0-1__utilizacao_small_business</th>\n",
       "      <th>ord__tx_juros_faixa</th>\n",
       "      <th>ord__vr_parcelas_faixa</th>\n",
       "      <th>ord__log_renda_anual_faixa</th>\n",
       "      <th>ord__idx_div_renda_faixa</th>\n",
       "      <th>ord__pont_mutuario_faixa</th>\n",
       "      <th>ord__log_saldo_rotativo_faixa</th>\n",
       "      <th>ord__tx_util_credito_faixa</th>\n",
       "    </tr>\n",
       "  </thead>\n",
       "  <tbody>\n",
       "    <tr>\n",
       "      <th>0</th>\n",
       "      <td>1.0</td>\n",
       "      <td>debt_consolidation</td>\n",
       "      <td>12.0</td>\n",
       "      <td>829.0</td>\n",
       "      <td>11.0</td>\n",
       "      <td>19.0</td>\n",
       "      <td>802.0</td>\n",
       "      <td>28854.0</td>\n",
       "      <td>52.1</td>\n",
       "      <td>0.0</td>\n",
       "      <td>0.0</td>\n",
       "      <td>0.0</td>\n",
       "      <td>(10.0, 12.0]</td>\n",
       "      <td>(780.0, 910.0]</td>\n",
       "      <td>(10.0, 11.0]</td>\n",
       "      <td>(18.0, 19.0]</td>\n",
       "      <td>(800, 802]</td>\n",
       "      <td>4.0</td>\n",
       "      <td>(3.0, 6.0]</td>\n",
       "      <td>(45.0, 60.0]</td>\n",
       "      <td>0.0</td>\n",
       "      <td>0.0</td>\n",
       "      <td>1.0</td>\n",
       "      <td>0.0</td>\n",
       "      <td>0.0</td>\n",
       "      <td>0.0</td>\n",
       "      <td>0.0</td>\n",
       "      <td>2.0</td>\n",
       "      <td>6.0</td>\n",
       "      <td>1.0</td>\n",
       "      <td>17.0</td>\n",
       "      <td>20.0</td>\n",
       "      <td>1.0</td>\n",
       "      <td>3.0</td>\n",
       "    </tr>\n",
       "    <tr>\n",
       "      <th>1</th>\n",
       "      <td>1.0</td>\n",
       "      <td>credit_card</td>\n",
       "      <td>11.0</td>\n",
       "      <td>228.0</td>\n",
       "      <td>11.0</td>\n",
       "      <td>14.0</td>\n",
       "      <td>707.0</td>\n",
       "      <td>33623.0</td>\n",
       "      <td>76.7</td>\n",
       "      <td>0.0</td>\n",
       "      <td>0.0</td>\n",
       "      <td>0.0</td>\n",
       "      <td>(10.0, 12.0]</td>\n",
       "      <td>(130.0, 260.0]</td>\n",
       "      <td>(10.0, 11.0]</td>\n",
       "      <td>(13.0, 14.0]</td>\n",
       "      <td>(706, 708]</td>\n",
       "      <td>5.0</td>\n",
       "      <td>(3.0, 6.0]</td>\n",
       "      <td>(75.0, 90.0]</td>\n",
       "      <td>0.0</td>\n",
       "      <td>1.0</td>\n",
       "      <td>0.0</td>\n",
       "      <td>0.0</td>\n",
       "      <td>0.0</td>\n",
       "      <td>0.0</td>\n",
       "      <td>0.0</td>\n",
       "      <td>2.0</td>\n",
       "      <td>1.0</td>\n",
       "      <td>1.0</td>\n",
       "      <td>12.0</td>\n",
       "      <td>10.0</td>\n",
       "      <td>1.0</td>\n",
       "      <td>5.0</td>\n",
       "    </tr>\n",
       "    <tr>\n",
       "      <th>2</th>\n",
       "      <td>1.0</td>\n",
       "      <td>debt_consolidation</td>\n",
       "      <td>14.0</td>\n",
       "      <td>367.0</td>\n",
       "      <td>10.0</td>\n",
       "      <td>12.0</td>\n",
       "      <td>682.0</td>\n",
       "      <td>3511.0</td>\n",
       "      <td>25.6</td>\n",
       "      <td>1.0</td>\n",
       "      <td>0.0</td>\n",
       "      <td>0.0</td>\n",
       "      <td>(14.0, 16.0]</td>\n",
       "      <td>(260.0, 390.0]</td>\n",
       "      <td>(9.0, 10.0]</td>\n",
       "      <td>(11.0, 12.0]</td>\n",
       "      <td>(680, 682]</td>\n",
       "      <td>4.0</td>\n",
       "      <td>(3.0, 6.0]</td>\n",
       "      <td>(15.0, 30.0]</td>\n",
       "      <td>0.0</td>\n",
       "      <td>0.0</td>\n",
       "      <td>1.0</td>\n",
       "      <td>0.0</td>\n",
       "      <td>0.0</td>\n",
       "      <td>0.0</td>\n",
       "      <td>0.0</td>\n",
       "      <td>4.0</td>\n",
       "      <td>2.0</td>\n",
       "      <td>0.0</td>\n",
       "      <td>10.0</td>\n",
       "      <td>5.0</td>\n",
       "      <td>1.0</td>\n",
       "      <td>1.0</td>\n",
       "    </tr>\n",
       "  </tbody>\n",
       "</table>\n",
       "</div>"
      ],
      "text/plain": [
       "   atende_criterios          utilizacao  tx_juros  vr_parcelas  \\\n",
       "0               1.0  debt_consolidation      12.0        829.0   \n",
       "1               1.0         credit_card      11.0        228.0   \n",
       "2               1.0  debt_consolidation      14.0        367.0   \n",
       "\n",
       "   log_renda_anual  idx_div_renda  pont_mutuario  saldo_rotativo  \\\n",
       "0             11.0           19.0          802.0         28854.0   \n",
       "1             11.0           14.0          707.0         33623.0   \n",
       "2             10.0           12.0          682.0          3511.0   \n",
       "\n",
       "   tx_util_credito  consult_mutuario_cred  nro_reg_deprec  devedor  \\\n",
       "0             52.1                    0.0             0.0      0.0   \n",
       "1             76.7                    0.0             0.0      0.0   \n",
       "2             25.6                    1.0             0.0      0.0   \n",
       "\n",
       "  tx_juros_faixa vr_parcelas_faixa log_renda_anual_faixa idx_div_renda_faixa  \\\n",
       "0   (10.0, 12.0]    (780.0, 910.0]          (10.0, 11.0]        (18.0, 19.0]   \n",
       "1   (10.0, 12.0]    (130.0, 260.0]          (10.0, 11.0]        (13.0, 14.0]   \n",
       "2   (14.0, 16.0]    (260.0, 390.0]           (9.0, 10.0]        (11.0, 12.0]   \n",
       "\n",
       "  pont_mutuario_faixa  log_saldo_rotativo log_saldo_rotativo_faixa  \\\n",
       "0          (800, 802]                 4.0               (3.0, 6.0]   \n",
       "1          (706, 708]                 5.0               (3.0, 6.0]   \n",
       "2          (680, 682]                 4.0               (3.0, 6.0]   \n",
       "\n",
       "  tx_util_credito_faixa  0-1__utilizacao_all_other  \\\n",
       "0          (45.0, 60.0]                        0.0   \n",
       "1          (75.0, 90.0]                        0.0   \n",
       "2          (15.0, 30.0]                        0.0   \n",
       "\n",
       "   0-1__utilizacao_credit_card  0-1__utilizacao_debt_consolidation  \\\n",
       "0                          0.0                                 1.0   \n",
       "1                          1.0                                 0.0   \n",
       "2                          0.0                                 1.0   \n",
       "\n",
       "   0-1__utilizacao_educational  0-1__utilizacao_home_improvement  \\\n",
       "0                          0.0                               0.0   \n",
       "1                          0.0                               0.0   \n",
       "2                          0.0                               0.0   \n",
       "\n",
       "   0-1__utilizacao_major_purchase  0-1__utilizacao_small_business  \\\n",
       "0                             0.0                             0.0   \n",
       "1                             0.0                             0.0   \n",
       "2                             0.0                             0.0   \n",
       "\n",
       "   ord__tx_juros_faixa  ord__vr_parcelas_faixa  ord__log_renda_anual_faixa  \\\n",
       "0                  2.0                     6.0                         1.0   \n",
       "1                  2.0                     1.0                         1.0   \n",
       "2                  4.0                     2.0                         0.0   \n",
       "\n",
       "   ord__idx_div_renda_faixa  ord__pont_mutuario_faixa  \\\n",
       "0                      17.0                      20.0   \n",
       "1                      12.0                      10.0   \n",
       "2                      10.0                       5.0   \n",
       "\n",
       "   ord__log_saldo_rotativo_faixa  ord__tx_util_credito_faixa  \n",
       "0                            1.0                         3.0  \n",
       "1                            1.0                         5.0  \n",
       "2                            1.0                         1.0  "
      ]
     },
     "execution_count": 95,
     "metadata": {},
     "output_type": "execute_result"
    }
   ],
   "source": [
    "# verificando os dados das primeiras linhas dos dois dataframes juntados\n",
    "df_milk_trans.head(3)"
   ]
  },
  {
   "cell_type": "markdown",
   "metadata": {},
   "source": [
    "- Aqui os dados originais foram juntados com os dados convertidos em categorias, tanto colunas como ordinais, preservando assim as informações de origem com os novos valores dos dados categoricos."
   ]
  },
  {
   "cell_type": "code",
   "execution_count": null,
   "metadata": {},
   "outputs": [
    {
     "data": {
      "text/plain": [
       "['atende_criterios',\n",
       " 'utilizacao',\n",
       " 'tx_juros',\n",
       " 'vr_parcelas',\n",
       " 'log_renda_anual',\n",
       " 'idx_div_renda',\n",
       " 'pont_mutuario',\n",
       " 'saldo_rotativo',\n",
       " 'tx_util_credito',\n",
       " 'consult_mutuario_cred',\n",
       " 'nro_reg_deprec',\n",
       " 'devedor',\n",
       " 'tx_juros_faixa',\n",
       " 'vr_parcelas_faixa',\n",
       " 'log_renda_anual_faixa',\n",
       " 'idx_div_renda_faixa',\n",
       " 'pont_mutuario_faixa',\n",
       " 'log_saldo_rotativo',\n",
       " 'log_saldo_rotativo_faixa',\n",
       " 'tx_util_credito_faixa',\n",
       " '0-1__utilizacao_all_other',\n",
       " '0-1__utilizacao_credit_card',\n",
       " '0-1__utilizacao_debt_consolidation',\n",
       " '0-1__utilizacao_educational',\n",
       " '0-1__utilizacao_home_improvement',\n",
       " '0-1__utilizacao_major_purchase',\n",
       " '0-1__utilizacao_small_business',\n",
       " 'ord__tx_juros_faixa',\n",
       " 'ord__vr_parcelas_faixa',\n",
       " 'ord__log_renda_anual_faixa',\n",
       " 'ord__idx_div_renda_faixa',\n",
       " 'ord__pont_mutuario_faixa',\n",
       " 'ord__log_saldo_rotativo_faixa',\n",
       " 'ord__tx_util_credito_faixa']"
      ]
     },
     "execution_count": 96,
     "metadata": {},
     "output_type": "execute_result"
    }
   ],
   "source": [
    "# listando todas as colunas dp novo dataframe com os novos dados transformados\n",
    "list(df_milk_trans.columns)"
   ]
  },
  {
   "cell_type": "code",
   "execution_count": null,
   "metadata": {},
   "outputs": [],
   "source": [
    "# reorganiza as colunas do dataframe para ser armazenado\n",
    "df_milk_trans = df_milk_trans[\n",
    "                           ['utilizacao',\n",
    "                            'tx_juros',\n",
    "                            'vr_parcelas',\n",
    "                            'log_renda_anual',\n",
    "                            'idx_div_renda',\n",
    "                            'pont_mutuario',\n",
    "                            'saldo_rotativo',\n",
    "                            'tx_util_credito',\n",
    "                            'tx_juros_faixa',\n",
    "                            'vr_parcelas_faixa',\n",
    "                            'log_renda_anual_faixa',\n",
    "                            'idx_div_renda_faixa',\n",
    "                            'pont_mutuario_faixa',\n",
    "                            'log_saldo_rotativo',\n",
    "                            'log_saldo_rotativo_faixa',\n",
    "                            'tx_util_credito_faixa',\n",
    "                            \n",
    "                            'devedor',\n",
    "                            'atende_criterios',\n",
    "                            'consult_mutuario_cred',\n",
    "                            'nro_reg_deprec',                                                        \n",
    "                            '0-1__utilizacao_all_other',\n",
    "                            '0-1__utilizacao_credit_card',\n",
    "                            '0-1__utilizacao_debt_consolidation',\n",
    "                            '0-1__utilizacao_educational',\n",
    "                            '0-1__utilizacao_home_improvement',\n",
    "                            '0-1__utilizacao_major_purchase',\n",
    "                            '0-1__utilizacao_small_business',\n",
    "                            'ord__tx_juros_faixa',\n",
    "                            'ord__vr_parcelas_faixa',\n",
    "                            'ord__log_renda_anual_faixa',\n",
    "                            'ord__idx_div_renda_faixa',\n",
    "                            'ord__pont_mutuario_faixa',\n",
    "                            'ord__log_saldo_rotativo_faixa',\n",
    "                            'ord__tx_util_credito_faixa'\n",
    "                            ]]    "
   ]
  },
  {
   "cell_type": "code",
   "execution_count": null,
   "metadata": {},
   "outputs": [],
   "source": [
    "# salva os dados tratados em arquivo csv organizado pelo índice\n",
    "df_milk_trans.sort_index().to_csv('df_treated/df_milk_trans.csv', index=False)"
   ]
  }
 ],
 "metadata": {
  "kernelspec": {
   "display_name": "Python 3",
   "language": "python",
   "name": "python3"
  },
  "language_info": {
   "codemirror_mode": {
    "name": "ipython",
    "version": 3
   },
   "file_extension": ".py",
   "mimetype": "text/x-python",
   "name": "python",
   "nbconvert_exporter": "python",
   "pygments_lexer": "ipython3",
   "version": "3.11.5"
  }
 },
 "nbformat": 4,
 "nbformat_minor": 2
}
